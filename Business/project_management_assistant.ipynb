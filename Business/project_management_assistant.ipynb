{
 "cells": [
  {
   "cell_type": "code",
   "execution_count": 1,
   "id": "64d2ea5f",
   "metadata": {},
   "outputs": [],
   "source": [
    "import os\n",
    "from dotenv import load_dotenv\n",
    "load_dotenv()\n",
    "\n",
    "os.environ[\"GROQ_API_KEY\"] = os.getenv(\"GROQ_API_KEY\")"
   ]
  },
  {
   "cell_type": "markdown",
   "id": "65d4345b",
   "metadata": {},
   "source": [
    "#LLM"
   ]
  },
  {
   "cell_type": "code",
   "execution_count": 2,
   "id": "6419718f",
   "metadata": {},
   "outputs": [],
   "source": [
    "from langchain_groq import ChatGroq\n",
    "\n",
    "llm = ChatGroq(model=\"gemma2-9b-it\")"
   ]
  },
  {
   "cell_type": "markdown",
   "id": "db74717f",
   "metadata": {},
   "source": [
    "#Sates"
   ]
  },
  {
   "cell_type": "code",
   "execution_count": 7,
   "id": "09f703f2",
   "metadata": {},
   "outputs": [],
   "source": [
    "from pydantic import BaseModel, Field\n",
    "import uuid\n",
    "from typing_extensions import List\n",
    "\n",
    "class Task(BaseModel):\n",
    "    id: uuid.UUID = Field(default_factory=uuid.uuid4, description=\"Unique identifier for the task\")\n",
    "    task_name: str = Field(description=\"Name of the task\")\n",
    "    task_description: str = Field(description=\"Description of the task\")\n",
    "    estimated_days: int = Field(description=\"Number of days to complete the task\")\n",
    "\n",
    "class Task_List(BaseModel):\n",
    "    tasks: List[str] = Field(description=\"list of all tasks\")\n",
    "\n",
    "class TaskDependency(BaseModel):\n",
    "    task: Task = Field(description=\"Task\")\n",
    "    dependent_tasks : List[str] = Field(description=\"List of dependent tasks\")\n",
    "\n",
    "class TeamMember(BaseModel):\n",
    "    name: str = Field(description=\"name of the team member\")\n",
    "    profile: str = Field(description=\"profile of the team member\")\n",
    "\n",
    "class Team(BaseModel):\n",
    "    team_members: List[TeamMember] = Field(description=\"List of all team members\")\n",
    "\n",
    "class TaskAllocation(BaseModel):\n",
    "    task: Task = Field(description=\"The allocated task\")\n",
    "    team_member: TeamMember = Field(description=\"Team member the task is allocated to\")\n",
    "\n",
    "class TaskSchedule(BaseModel):\n",
    "    task: Task = Field(description=\"The task to be scheduled\")\n",
    "    start_day: int = Field(description=\"The starting day of the task\")\n",
    "    end_day: int = Field(description=\"The ending day of the task\")\n",
    "\n",
    "class DependencyList(BaseModel):\n",
    "    dependencies: List[TaskDependency] = Field(description=\"List of all dependencies for a task\")\n",
    "\n",
    "class Schedule(BaseModel):\n",
    "    schedule: List[TaskSchedule] = Field(description=\"List of task schedules\")\n",
    "\n",
    "class TaskAllocationList(BaseModel):\n",
    "    allocation_list: List[TaskAllocation] = Field(description=\"task allocation list\")\n",
    "\n",
    "class TaskAllocationListIteration(BaseModel):\n",
    "    \"\"\"List of task allocations for each iteration\"\"\"\n",
    "    task_allocations_iteration: List[TaskAllocationList] = Field(description=\"List of task allocations for each iteration\")\n",
    "\n",
    "class ScheduleIteration(BaseModel):\n",
    "    schedule: List[Schedule] = Field(description=\"List of task schedules for each iteration\")\n",
    "\n",
    "class Risk(BaseModel):\n",
    "    task: Task = Field(description=\"Task\")\n",
    "    score: str = Field(description=\"Risk associated with the task\")\n",
    "\n",
    "class RiskList(BaseModel):\n",
    "    risks: List[Risk] = Field(description=\"List of risks\")\n",
    "\n",
    "class RiskListIteration(BaseModel):\n",
    "    risks_iteration: List[RiskList] = Field(description=\"List of risks for each iteration\")"
   ]
  },
  {
   "cell_type": "markdown",
   "id": "2e40a612",
   "metadata": {},
   "source": [
    "#AgentState"
   ]
  },
  {
   "cell_type": "code",
   "execution_count": 11,
   "id": "648c6eb6",
   "metadata": {},
   "outputs": [],
   "source": [
    "from typing_extensions import TypedDict\n",
    "\n",
    "class AgentState(TypedDict):\n",
    "    \"\"\"The project management agent state\"\"\"\n",
    "    project_description: str\n",
    "    team: Team\n",
    "    tasks: Task_List\n",
    "    dependencies: DependencyList\n",
    "    schedule: Schedule\n",
    "    task_allocation: TaskAllocationList\n",
    "    risks: RiskList\n",
    "    iteration_num: int\n",
    "    max_iteration: int\n",
    "    insights: List[str]\n",
    "    scheduled_iteration: List[Schedule]\n",
    "    task_allocations_iteration: List[TaskAllocationList]\n",
    "    risks_iteration: List[RiskListIteration]\n",
    "    project_risk_score_iteration: List[int]"
   ]
  },
  {
   "cell_type": "markdown",
   "id": "bd30d624",
   "metadata": {},
   "source": [
    "#Nodes"
   ]
  },
  {
   "cell_type": "code",
   "execution_count": 12,
   "id": "31b936fa",
   "metadata": {},
   "outputs": [],
   "source": [
    "def task_generation(state: AgentState):\n",
    "    \"\"\"Extract task from the given project description\"\"\"\n",
    "    description = state[\"project_description\"]\n",
    "    prompt = f\"\"\"\n",
    "        You are an expert project manager tasked with analyzing the following project description: {description}\n",
    "        Your objectives are to: \n",
    "        1. **Extract Actionable Tasks:**\n",
    "            - Identify and list all actionable and realistic tasks necessary to complete the project.\n",
    "            - Provide an estimated number of days required to complete each task.\n",
    "        2. **Refine Long-Term Tasks:**\n",
    "            - For any task estimated to take longer than 5 days, break it down into smaller, independent sub-tasks.\n",
    "        **Requirements:** - Ensure each task is clearly defined and achievable.\n",
    "            - Maintain logical sequencing of tasks to facilitate smooth project execution.\n",
    "    \"\"\"\n",
    "\n",
    "    structured_llm =   llm.with_structured_output(Task_List)\n",
    "    tasks: Task_List = structured_llm.invoke(prompt)\n",
    "    return {\"tasks\": tasks}"
   ]
  },
  {
   "cell_type": "code",
   "execution_count": 13,
   "id": "c910b218",
   "metadata": {},
   "outputs": [],
   "source": [
    "def task_dependency_node(state: AgentState):\n",
    "    \"\"\"Lists the dependencies between the tasks\"\"\"\n",
    "    tasks = state[\"task\"]\n",
    "    prompt = f\"\"\"\n",
    "        You are a skilled project scheduler responsible for mapping out task dependencies.\n",
    "        Given the following list of tasks: {tasks}\n",
    "        Your objectives are to:\n",
    "            1. **Identify Dependencies:**\n",
    "                - For each task, determine which other tasks must be completed before it can begin (blocking tasks).\n",
    "            2. **Map Dependent Tasks:** \n",
    "                - For every task, list all tasks that depend on its completion.\n",
    "    \"\"\"\n",
    "    structure_llm = llm.with_structured_output(DependencyList)\n",
    "    dependencies: DependencyList = structure_llm.invoke(prompt)\n",
    "    return {\"dependencies\": dependencies}"
   ]
  },
  {
   "cell_type": "code",
   "execution_count": 14,
   "id": "f1df9e78",
   "metadata": {},
   "outputs": [],
   "source": [
    "def task_schedular_node(state: AgentState):\n",
    "    \"\"\"Schedules the tasks based on the dependencies\"\"\"\n",
    "    dependencies = state[\"dependencies\"]\n",
    "    tasks = state[\"tasks\"]\n",
    "    insights = state[\"insights\"]\n",
    "    schedule_iteration = state[\"scheduled_iteration\"]\n",
    "    prompt = f\"\"\"\n",
    "        You are an experienced project scheduler tasked with creating an optimized project timeline.\n",
    "        **Given:**\n",
    "            - **Tasks:** {tasks}\n",
    "            - **Dependencies:** {dependencies}\n",
    "            - **Previous Insights:** {insights}\n",
    "            - **Previous Schedule Iterations (if any):** {schedule_iteration}\n",
    "        **Your objectives are to: **\n",
    "            1. **Develop a Task Schedule:**\n",
    "                - Assign start and end days to each task, ensuring that all dependencies are respected.\n",
    "                - Optimize the schedule to minimize the overall project duration.\n",
    "                - If possible parallelize the tasks to reduce the overall project duration.\n",
    "                - Try not to increase the project duration compared to previous iterations.\n",
    "            2. **Incorporate Insights:** \n",
    "                - Utilize insights from previous iterations to enhance scheduling efficiency and address any identified issues.\n",
    "    \"\"\"\n",
    "    schedule_llm = llm.with_structured_output(Schedule)\n",
    "    schedule: Schedule = schedule_llm.invoke(prompt)\n",
    "    state[\"schedule\"] = schedule\n",
    "    state[\"schedule_iteration\"].append(schedule)\n",
    "    return state"
   ]
  },
  {
   "cell_type": "code",
   "execution_count": 16,
   "id": "e00abc45",
   "metadata": {},
   "outputs": [],
   "source": [
    "def task_allocation_node(state: AgentState):\n",
    "    \"\"\"Allocates task to team members\"\"\"\n",
    "    tasks = state[\"tasks\"]\n",
    "    schedule = state[\"schedule\"]\n",
    "    team = state[\"team\"]\n",
    "    insights = state[\"insights\"]\n",
    "    task_allocation_iteration = state[\"task_allocations_iteration\"]\n",
    "    prompt = f\"\"\"\n",
    "         You are a proficient project manager responsible for allocating tasks to team members efficiently.\n",
    "         **Given:** \n",
    "            - **Tasks:** {tasks} \n",
    "            - **Schedule:** {schedule} \n",
    "            - **Team Members:** {team} \n",
    "            - **Previous Insights:** {insights} \n",
    "            - **Previous Task Allocations (if any):** {task_allocation_iteration}\n",
    "\n",
    "        **Your objectives are to:** \n",
    "            1. **Allocate Tasks:** \n",
    "                - Assign each task to a team member based on their expertise and current availability. \n",
    "                - Ensure that no team member is assigned overlapping tasks during the same time period. \n",
    "            2. **Optimize Assignments:** \n",
    "                - Utilize insights from previous iterations to improve task allocations. \n",
    "                - Balance the workload evenly among team members to enhance productivity and prevent burnout.\n",
    "                **Constraints:** \n",
    "                    - Each team member can handle only one task at a time. \n",
    "                    - Assignments should respect the skills and experience of each team member.\n",
    "    \"\"\"\n",
    "    structure_llm = llm.with_structured_output(TaskAllocationList)\n",
    "    task_allocations: TaskAllocationList = structure_llm.invoke(prompt)\n",
    "    state[\"task_allocations\"] = task_allocations\n",
    "    state[\"task_allocations_iteration\"].append(task_allocations)\n",
    "    return state"
   ]
  },
  {
   "cell_type": "code",
   "execution_count": 18,
   "id": "1d033578",
   "metadata": {},
   "outputs": [],
   "source": [
    "def risk_assessment_node(state: AgentState):\n",
    "    \"\"\"analyse risk associated with schedule and allocation of task\"\"\"\n",
    "    schedule = state[\"schedule\"]\n",
    "    task_allocations=state[\"task_allocations\"]\n",
    "    prompt = f\"\"\"\n",
    "        You are a seasoned project risk analyst tasked with evaluating the risks associated with the current project plan.\n",
    "        **Given:**\n",
    "            - **Task Allocations:** {task_allocations}\n",
    "            - **Schedule:** {schedule}\n",
    "            - **Previous Risk Assessments (if any):** {state['risks_iteration']}\n",
    "        **Your objectives are to:**\n",
    "            1. **Assess Risks:**\n",
    "                - Analyze each allocated task and its scheduled timeline to identify potential risks.\n",
    "                - Consider factors such as task complexity, resource availability, and dependency constraints.\n",
    "            2. **Assign Risk Scores:**\n",
    "            - Assign a risk score to each task on a scale from 0 (no risk) to 10 (high risk).\n",
    "            - If a task assignment remains unchanged from a previous iteration (same team member and task), retain the existing risk score to ensure consistency.\n",
    "            - If the team member has more time between tasks - assign lower risk score for the tasks\n",
    "            - If the task is assigned to a more senior person - assign lower risk score for the tasks\n",
    "            3. **Calculate Overall Project Risk:**\n",
    "            - Sum the individual task risk scores to determine the overall project risk score.\n",
    "        \"\"\"\n",
    "    structure_llm = llm.with_structured_output(RiskList)\n",
    "    risks: RiskList = structure_llm.invoke(prompt)\n",
    "    project_task_risk_scores = [int(risk.score) for risk in risks.risks]\n",
    "    project_risk_score = sum(project_task_risk_scores)\n",
    "    state[\"risks\"] = risks\n",
    "    state[\"project_risk_score\"] = project_risk_score\n",
    "    state[\"iteration_number\"] += 1\n",
    "    state[\"project_risk_score_iterations\"].append(project_risk_score)\n",
    "    state[\"risks_iteration\"].append(risks)\n",
    "    return state"
   ]
  },
  {
   "cell_type": "code",
   "execution_count": 19,
   "id": "c6624a75",
   "metadata": {},
   "outputs": [],
   "source": [
    "def insight_generation_node(state: AgentState):\n",
    "    \"\"\"generate insights from the schedule, task allocation, and risk associated\"\"\"\n",
    "    schedule = state[\"schedule\"]\n",
    "    task_allocations=state[\"task_allocations\"]\n",
    "    risks = state[\"risks\"]\n",
    "    prompt = f\"\"\"\n",
    "        You are an expert project manager responsible for generating actionable insights to enhance the project plan.\n",
    "        **Given:**\n",
    "            - **Task Allocations:** {task_allocations}\n",
    "            - **Schedule:** {schedule}\n",
    "            - **Risk Analysis:** {risks}\n",
    "        **Your objectives are to:**\n",
    "            1. **Generate Critical Insights:**\n",
    "            - Analyze the current task allocations, schedule, and risk assessments to identify areas for improvement.\n",
    "            - Highlight any potential bottlenecks, resource conflicts, or high-risk tasks that may jeopardize project success.\n",
    "            2. **Recommend Enhancements:**\n",
    "            - Suggest adjustments to task assignments or scheduling to mitigate identified risks.\n",
    "            - Propose strategies to optimize resource utilization and streamline workflow.\n",
    "                **Requirements:**\n",
    "                - Ensure that all recommendations aim to reduce the overall project risk score.\n",
    "                - Provide clear and actionable suggestions that can be implemented in subsequent iterations.\n",
    "        \"\"\"\n",
    "    insights = llm.invoke(prompt).content\n",
    "    return {\"insights\": insights}"
   ]
  },
  {
   "cell_type": "code",
   "execution_count": 20,
   "id": "ad50114d",
   "metadata": {},
   "outputs": [],
   "source": [
    "from langgraph.graph import END\n",
    "\n",
    "def router(state: AgentState):\n",
    "    \"\"\"route the agent to the appropriate node based on the project description\"\"\"\n",
    "    max_iteration = state[\"max_iteration\"]\n",
    "    iteration_number = state[\"iteration_number\"]\n",
    "\n",
    "    if iteration_number < max_iteration:\n",
    "        if len(state[\"project_risk_score_iterations\"])>1:\n",
    "            if state[\"project_risk_score_iterations\"][-1] < state[\"project_risk_score_iterations\"][0]:\n",
    "                return END\n",
    "            else:\n",
    "                return \"insight_generator\"\n",
    "        else:\n",
    "            return \"insight_generator\"\n",
    "    else:\n",
    "        return END"
   ]
  },
  {
   "cell_type": "markdown",
   "id": "31cd312c",
   "metadata": {},
   "source": [
    "#WorkFlow"
   ]
  },
  {
   "cell_type": "code",
   "execution_count": 21,
   "id": "2749c5f6",
   "metadata": {},
   "outputs": [],
   "source": [
    "from langgraph.graph import StateGraph, START\n",
    "from langgraph.checkpoint.memory import MemorySaver\n",
    "\n",
    "workflow = StateGraph(AgentState)\n",
    "\n",
    "# Add nodes to the workflow\n",
    "workflow.add_node(\"task_generation\", task_generation)\n",
    "workflow.add_node(\"task_dependencies\", task_dependency_node)\n",
    "workflow.add_node(\"task_scheduler\", task_schedular_node)\n",
    "workflow.add_node(\"task_allocator\", task_allocation_node)\n",
    "workflow.add_node(\"risk_assessor\", risk_assessment_node)\n",
    "workflow.add_node(\"insight_generator\", insight_generation_node)\n",
    "\n",
    "# Add edges to the workflow\n",
    "workflow.set_entry_point(\"task_generation\")\n",
    "workflow.add_edge(\"task_generation\", \"task_dependencies\")\n",
    "workflow.add_edge(\"task_dependencies\", \"task_scheduler\")\n",
    "workflow.add_edge(\"task_scheduler\", \"task_allocator\")\n",
    "workflow.add_edge(\"task_allocator\", \"risk_assessor\")\n",
    "workflow.add_conditional_edges(\"risk_assessor\", router, [\"insight_generator\", END])\n",
    "workflow.add_edge(\"insight_generator\", \"task_scheduler\")\n",
    "\n",
    "# Set up memory\n",
    "memory = MemorySaver()\n",
    "\n",
    "# Compile the workflow\n",
    "graph_plan = workflow.compile(checkpointer=memory)"
   ]
  },
  {
   "cell_type": "markdown",
   "id": "e4b7c6d9",
   "metadata": {},
   "source": [
    "#Graph Image"
   ]
  },
  {
   "cell_type": "code",
   "execution_count": 22,
   "id": "9e0966bf",
   "metadata": {},
   "outputs": [
    {
     "data": {
      "image/png": "[encoded data removed]",
      "text/plain": [
       "<IPython.core.display.Image object>"
      ]
     },
     "metadata": {},
     "output_type": "display_data"
    }
   ],
   "source": [
    "from IPython.display import display, Image\n",
    "display(Image(graph_plan.get_graph(xray=1).draw_mermaid_png()))"
   ]
  },
  {
   "cell_type": "markdown",
   "id": "bee1557f",
   "metadata": {},
   "source": [
    "#Inference"
   ]
  },
  {
   "cell_type": "code",
   "execution_count": 23,
   "id": "874f3cb7",
   "metadata": {},
   "outputs": [],
   "source": [
    "import pandas as pd\n",
    "\n",
    "def get_project_description(file_path:str):\n",
    "    \"\"\"Read the project description from the file\"\"\"\n",
    "    with open(file_path, 'r') as file:\n",
    "            content = file.read()\n",
    "\n",
    "    return content\n",
    "\n",
    "def get_team(file_path:str):\n",
    "    \"\"\"Read the team members from the CSV file\"\"\"\n",
    "    team_df = pd.read_csv(file_path)\n",
    "    team_members = [\n",
    "            TeamMember(name=row['Name'], profile=row['Profile Description'])\n",
    "            for _, row in team_df.iterrows()\n",
    "        ]\n",
    "    team = Team(team_members=team_members)\n",
    "\n",
    "    return team"
   ]
  },
  {
   "cell_type": "code",
   "execution_count": null,
   "id": "b5bbb661",
   "metadata": {},
   "outputs": [],
   "source": [
    "project_description = get_project_description(\"../data/project_manager_assistant/project_description.txt\")\n",
    "team = get_team(\"../data/project_manager_assistant/team.csv\")\n",
    "\n",
    "print(project_description)\n",
    "print(team)"
   ]
  },
  {
   "cell_type": "code",
   "execution_count": null,
   "id": "f647aea7",
   "metadata": {},
   "outputs": [],
   "source": [
    "state_input = {\n",
    "    \"project_description\": project_description,\n",
    "    \"team\": team,\n",
    "    \"insights\": \"\",\n",
    "    \"iteration_number\": 0,\n",
    "    \"max_iteration\": 3,\n",
    "    \"schedule_iteration\": [],\n",
    "    \"task_allocations_iteration\": [],\n",
    "    \"risks_iteration\": [],\n",
    "    \"project_risk_score_iterations\": []\n",
    "}"
   ]
  },
  {
   "cell_type": "code",
   "execution_count": null,
   "id": "abc759c5",
   "metadata": {},
   "outputs": [],
   "source": [
    "config = {\"configurable\": {\"thread_id\": \"1\"}}\n",
    "for event in graph_plan.stream(state_input, config, stream_mode=[\"updates\"]):\n",
    "    \"Print the different nodes as the agent progresses\"\n",
    "    print(f\"Current node: {next(iter(event[1]))}\")"
   ]
  },
  {
   "cell_type": "code",
   "execution_count": null,
   "id": "a840fa26",
   "metadata": {},
   "outputs": [],
   "source": [
    "final_state = graph_plan.get_state(config).values\n",
    "print(final_state['iteration_number'])\n",
    "print(final_state['project_risk_score_iterations'])"
   ]
  },
  {
   "cell_type": "markdown",
   "id": "531e900d",
   "metadata": {},
   "source": [
    "#Vizualisation"
   ]
  },
  {
   "cell_type": "code",
   "execution_count": null,
   "id": "7e913828",
   "metadata": {},
   "outputs": [],
   "source": [
    "# Visalize Project timeline\n",
    "number_of_iterations = final_state['iteration_number']\n",
    "\n",
    "for i in range(number_of_iterations):\n",
    "    ## Tasks schedule\n",
    "    task_schedules = final_state['schedule_iteration'][i].schedule\n",
    "\n",
    "    t = []\n",
    "    # Iterate over the task_schedules and append each task's data to the DataFrame\n",
    "    for task_schedule in task_schedules:\n",
    "        t.append([\n",
    "            task_schedule.task.task_name,\n",
    "            task_schedule.start_day,\n",
    "            task_schedule.end_day\n",
    "        ])\n",
    "\n",
    "    df_schedule = pd.DataFrame(t,columns=['task_name', 'start', 'end'])\n",
    "\n",
    "    ## Tasks allocation\n",
    "    task_allocations = final_state['task_allocations_iteration'][i].task_allocations\n",
    "\n",
    "    t = []\n",
    "    # Iterate over the task_schedules and append each task's data to the DataFrame\n",
    "    for task_allocation in task_allocations:\n",
    "        t.append([\n",
    "            task_allocation.task.task_name,\n",
    "            task_allocation.team_member.name\n",
    "        ])\n",
    "\n",
    "    df_allocation = pd.DataFrame(t,columns=['task_name', 'team_member'])\n",
    "\n",
    "    df = df_allocation.merge(df_schedule, on='task_name')\n",
    "\n",
    "    import plotly.express as px\n",
    "\n",
    "    from datetime import datetime, timedelta\n",
    "    # Get the current date\n",
    "    current_date = datetime.today()\n",
    "\n",
    "    # Convert start and end offsets to actual dates\n",
    "    df['start'] = df['start'].apply(lambda x: current_date + timedelta(days=x))\n",
    "    df['end'] = df['end'].apply(lambda x: current_date + timedelta(days=x))\n",
    "\n",
    "    df.rename(columns={'team_member': 'Team Member'}, inplace=True)\n",
    "    df.sort_values(by='Team Member', inplace=True)\n",
    "    # Create a Gantt chart\n",
    "    fig = px.timeline(df, x_start=\"start\", x_end=\"end\", y=\"task_name\", color=\"Team Member\", title=f\"Gantt Chart - Iteration:{i+1} \")\n",
    "\n",
    "    # Update layout for better visualization\n",
    "    fig.update_layout(\n",
    "        xaxis_title=\"Timeline\",\n",
    "        yaxis_title=\"Tasks\",\n",
    "        yaxis=dict(autorange=\"reversed\"),  # Reverse the y-axis to have tasks in the vertical side\n",
    "        title_x=0.5\n",
    "    )\n",
    "\n",
    "    # Show the plot\n",
    "    fig.show()"
   ]
  }
 ],
 "metadata": {
  "kernelspec": {
   "display_name": ".venv",
   "language": "python",
   "name": "python3"
  },
  "language_info": {
   "codemirror_mode": {
    "name": "ipython",
    "version": 3
   },
   "file_extension": ".py",
   "mimetype": "text/x-python",
   "name": "python",
   "nbconvert_exporter": "python",
   "pygments_lexer": "ipython3",
   "version": "3.13.3"
  }
 },
 "nbformat": 4,
 "nbformat_minor": 5
}
