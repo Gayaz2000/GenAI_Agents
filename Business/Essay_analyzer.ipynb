{
 "cells": [
  {
   "cell_type": "markdown",
   "id": "73c2a6c8",
   "metadata": {},
   "source": [
    "# Essay Analyzser"
   ]
  },
  {
   "cell_type": "code",
   "execution_count": 1,
   "id": "838edded",
   "metadata": {},
   "outputs": [],
   "source": [
    "import os\n",
    "from dotenv import load_dotenv\n",
    "load_dotenv()\n",
    "\n",
    "os.environ[\"GROQ_API_KEY\"] = os.getenv(\"GROQ_API_KEY\")"
   ]
  },
  {
   "cell_type": "code",
   "execution_count": 2,
   "id": "ee916b26",
   "metadata": {},
   "outputs": [],
   "source": [
    "from langchain_groq import ChatGroq\n",
    "\n",
    "llm = ChatGroq(model=\"gemma2-9b-it\")"
   ]
  },
  {
   "cell_type": "code",
   "execution_count": 3,
   "id": "c7e7be58",
   "metadata": {},
   "outputs": [],
   "source": [
    "from langchain_ollama import ChatOllama\n",
    "\n",
    "ollama_llm = ChatOllama(model=\"llama3.2:1b\")"
   ]
  },
  {
   "cell_type": "code",
   "execution_count": 22,
   "id": "ba376e10",
   "metadata": {},
   "outputs": [],
   "source": [
    "sample_essay = \"\"\"\n",
    "    The Impact of Artificial Intelligence on Modern Society\n",
    "\n",
    "    Artificial Intelligence (AI) has become an integral part of our daily lives, \n",
    "    revolutionizing various sectors including healthcare, finance, and transportation. \n",
    "    This essay explores the profound effects of AI on modern society, discussing both \n",
    "    its benefits and potential challenges.\n",
    "\n",
    "    One of the most significant impacts of AI is in the healthcare industry. \n",
    "    AI-powered diagnostic tools can analyze medical images with high accuracy, \n",
    "    often surpassing human capabilities. This leads to earlier detection of diseases \n",
    "    and more effective treatment plans. Moreover, AI algorithms can process vast \n",
    "    amounts of medical data to identify patterns and insights that might escape \n",
    "    human observation, potentially leading to breakthroughs in drug discovery and \n",
    "    personalized medicine.\n",
    "\n",
    "    In the financial sector, AI has transformed the way transactions are processed \n",
    "    and monitored. Machine learning algorithms can detect fraudulent activities in \n",
    "    real-time, enhancing security for consumers and institutions alike. Robo-advisors \n",
    "    use AI to provide personalized investment advice, democratizing access to \n",
    "    financial planning services.\n",
    "\n",
    "    The transportation industry is another area where AI is making significant strides. \n",
    "    Self-driving cars, powered by complex AI systems, promise to reduce accidents \n",
    "    caused by human error and provide mobility solutions for those unable to drive. \n",
    "    In logistics, AI optimizes routing and inventory management, leading to more \n",
    "    efficient supply chains and reduced environmental impact.\n",
    "\n",
    "    However, the rapid advancement of AI also presents challenges. There are concerns \n",
    "    about job displacement as AI systems become capable of performing tasks \n",
    "    traditionally done by humans. This raises questions about the need for retraining \n",
    "    and reskilling the workforce to adapt to an AI-driven economy.\n",
    "\n",
    "    Privacy and ethical concerns also arise with the increasing use of AI. The vast \n",
    "    amount of data required to train AI systems raises questions about data privacy \n",
    "    and consent. Additionally, there are ongoing debates about the potential biases \n",
    "    in AI algorithms and the need for transparent and accountable AI systems.\n",
    "\n",
    "    In conclusion, while AI offers tremendous benefits and has the potential to solve \n",
    "    some of humanity's most pressing challenges, it also requires careful consideration \n",
    "    of its societal implications. As we continue to integrate AI into various aspects \n",
    "    of our lives, it is crucial to strike a balance between technological advancement \n",
    "    and ethical considerations, ensuring that the benefits of AI are distributed \n",
    "    equitably across society.\n",
    "    \"\"\""
   ]
  },
  {
   "cell_type": "code",
   "execution_count": 23,
   "id": "c2b6773c",
   "metadata": {},
   "outputs": [],
   "source": [
    "from pydantic import BaseModel, Field\n",
    "\n",
    "class State(BaseModel):\n",
    "    essay: str = Field(..., description=\"The written essay to be analysed\")\n",
    "    relevance_score: float = Field(..., description=\"relevancy of total essay\")\n",
    "    grammer_score: float = Field(..., description=\"score for grammer correctness\")\n",
    "    structure_score: float = Field(..., description=\"score for proper structuring\")\n",
    "    depth_score: float = Field(..., description=\"score for depth coverage in the essay\")\n",
    "    final_score: float = Field(..., description=\"Final score for complete essay\")"
   ]
  },
  {
   "cell_type": "markdown",
   "id": "fd86320d",
   "metadata": {},
   "source": [
    "#Grading Functions"
   ]
  },
  {
   "cell_type": "code",
   "execution_count": 27,
   "id": "158004f1",
   "metadata": {},
   "outputs": [],
   "source": [
    "from langchain_core.prompts import ChatPromptTemplate\n",
    "\n",
    "async def relevence_grading(essay): #(state:State)->State\n",
    "    \"\"\"Check the input essay for relevance and provides score between 0 and 1\"\"\"\n",
    "    template = \"\"\"\n",
    "        You are an Essay analyzer. Analyse the relevance of following essay to given topic.\n",
    "        Provide a relevence score between 0 and 1.\n",
    "        Provide the relevency score in the form of float with keyword: 'Score'.\n",
    "        Then provide your explanation.\n",
    "        \\n\\nEssay: {essay}\n",
    "        \\n\\nScore:\n",
    "    \"\"\"\n",
    "    prompt = ChatPromptTemplate.from_template(template= template)\n",
    "\n",
    "    chain = prompt | llm\n",
    "    response = await chain.ainvoke({\"essay\": essay})\n",
    "    relevance_score = response.content\n",
    "    return relevance_score"
   ]
  },
  {
   "cell_type": "code",
   "execution_count": 28,
   "id": "0d27412f",
   "metadata": {},
   "outputs": [
    {
     "data": {
      "text/plain": [
       "'Score: 1.0\\n\\nExplanation: \\nThe essay directly and thoroughly addresses the topic \"The Impact of Artificial Intelligence on Modern Society.\" It comprehensively explores both the positive aspects (healthcare, finance, transportation) and the potential challenges (job displacement, privacy concerns, ethical considerations) of AI. The essay provides specific examples and demonstrates a clear understanding of the multifaceted nature of AI\\'s influence on modern society.  \\n\\n'"
      ]
     },
     "execution_count": 28,
     "metadata": {},
     "output_type": "execute_result"
    }
   ],
   "source": [
    "import asyncio\n",
    "import nest_asyncio\n",
    "nest_asyncio.apply()\n",
    "\n",
    "asyncio.run(relevence_grading(sample_essay))"
   ]
  },
  {
   "cell_type": "code",
   "execution_count": 6,
   "id": "0702a68b",
   "metadata": {},
   "outputs": [],
   "source": [
    "async def check_grammer(state:State)->State:\n",
    "    \"\"\"Checks grammar for mistakes and score the essay for grammar accordingly\"\"\"\n",
    "    template = \"\"\"\n",
    "        Your a grammer analyzer. Your task is to analyse the grammer and language of the following essay.\n",
    "        Provide score for grammer in between 0 to 1.\n",
    "        Return the grammar score with keyword: 'grammer_score', as a  float.\n",
    "        Then provide your Explanation.\n",
    "        \\n\\nEssay: {essay}\n",
    "        \\n\\nGrammer_score:\n",
    "    \"\"\"\n",
    "    prompt = ChatPromptTemplate.from_template(template=template)\n",
    "\n",
    "    grammer_chain = await ollama_llm.ainvoke({\"essay\": state.essay})\n",
    "    state.grammer_score = grammer_chain.content\n",
    "    return state"
   ]
  },
  {
   "cell_type": "code",
   "execution_count": 7,
   "id": "9755047b",
   "metadata": {},
   "outputs": [],
   "source": [
    "async def structure_grader(state: State)->State:\n",
    "    \"\"\"Analyses the structure and syntactic arrangement of the essay and provides score\"\"\"\n",
    "    template = \"\"\"\n",
    "        Your an essay structure analyser. Youe task is to analyze the structure and syntactc arrangement of the followning essay and grading it.\n",
    "        Grade the essay between 0 an 1.\n",
    "        Retrun the response with keyword: 'structure_score', as a float value. \n",
    "        Then provide your explanation.\n",
    "        \\n\\nEssay: {essay}\n",
    "        \\n\\nStructure Score:\n",
    "    \"\"\"\n",
    "    prompt = ChatPromptTemplate.from_template(template=template)\n",
    "\n",
    "    structure_chain = prompt | ollama_llm\n",
    "    result = await structure_chain.ainvoke({\"essay\": state.essay})\n",
    "    state.structure_score = result.content\n",
    "    return state"
   ]
  },
  {
   "cell_type": "code",
   "execution_count": 8,
   "id": "1d39f1ef",
   "metadata": {},
   "outputs": [],
   "source": [
    "async def depth_evaluator(state:State)->State:\n",
    "    \"\"\"Analyses and grades the essay for its coverage and its depth\"\"\"\n",
    "    template = \"\"\"\n",
    "        Your an essay depth analyser. Your task is to take following essay and analyse the depth and coverage of essay and grading it.\n",
    "        Grade the essay depth between 0 to 1.\n",
    "        Return the score with keyword: 'depth_score', as a float.\n",
    "        Then provide your explanation.\n",
    "        \\n\\nEssay: {essay}\n",
    "        \\n\\nDepth Score:\n",
    "    \"\"\"\n",
    "    prompt = ChatPromptTemplate.from_template(template=template)\n",
    "\n",
    "    depth_eval_chain = prompt | ollama_llm\n",
    "    result = await depth_eval_chain.ainvoke({\"essay\": state.essay})\n",
    "    state.depth_score = result.content\n",
    "    return state"
   ]
  },
  {
   "cell_type": "code",
   "execution_count": 9,
   "id": "ec883b2c",
   "metadata": {},
   "outputs": [],
   "source": [
    "def calculate_final_score(state: State)-> State:\n",
    "    \"\"\"Collects all the scores from state and calculate final score of essay\"\"\"\n",
    "    state.final_score = (\n",
    "        state.relevance_score * 0.3 +\n",
    "        state.grammer_score * 0.2 +\n",
    "        state.structure_score * 0.2 +\n",
    "        state.depth_score * 0.3\n",
    "    )\n",
    "    return state"
   ]
  },
  {
   "cell_type": "code",
   "execution_count": 10,
   "id": "191520d9",
   "metadata": {},
   "outputs": [],
   "source": [
    "def router(state: State):\n",
    "    \"\"\"route the essay accordingly\"\"\"\n",
    "    if state.relevance_score > 0.5:\n",
    "        return \"check_grammar\"\n",
    "    if state.grammer_score > 0.6:\n",
    "        return \"analyze_structure\"\n",
    "    if state.structure_score > 0.7:\n",
    "        return \"evaluate_depth\"\n",
    "    else:\n",
    "        return \"calculate_final_score\"\n"
   ]
  },
  {
   "cell_type": "markdown",
   "id": "e9e68133",
   "metadata": {},
   "source": [
    "#Workflow"
   ]
  },
  {
   "cell_type": "code",
   "execution_count": 11,
   "id": "1353ab83",
   "metadata": {},
   "outputs": [],
   "source": [
    "from langgraph.graph import StateGraph, START, END\n",
    "\n",
    "workflow = StateGraph(State)\n",
    "\n",
    "workflow.add_node(\"check_relevance\", relevence_grading)\n",
    "workflow.add_node(\"check_grammar\", check_grammer)\n",
    "workflow.add_node(\"analyze_structure\", structure_grader)\n",
    "workflow.add_node(\"evaluate_depth\",  depth_evaluator)\n",
    "workflow.add_node(\"calculate_final_score\", calculate_final_score)\n",
    "\n",
    "workflow.set_entry_point(\"check_relevance\")\n",
    "\n",
    "workflow.add_conditional_edges(\n",
    "    \"check_relevance\",\n",
    "    router,\n",
    "    {\n",
    "        \"check_grammar\" : \"check_grammar\",\n",
    "        \"analyze_structure\" : \"analyze_structure\",\n",
    "        \"evaluate_depth\" : \"evaluate_depth\"\n",
    "    }\n",
    ")\n",
    "workflow.add_edge(\"evaluate_depth\", \"calculate_final_score\")\n",
    "workflow.add_edge(\"calculate_final_score\", END)\n",
    "\n",
    "graph = workflow.compile()"
   ]
  },
  {
   "cell_type": "code",
   "execution_count": 12,
   "id": "974770e0",
   "metadata": {},
   "outputs": [
    {
     "data": {
      "image/png": "[encoded data removed]",
      "text/plain": [
       "<IPython.core.display.Image object>"
      ]
     },
     "metadata": {},
     "output_type": "display_data"
    }
   ],
   "source": [
    "from IPython.display import display, Image\n",
    "\n",
    "display(Image(graph.get_graph().draw_mermaid_png()))"
   ]
  },
  {
   "cell_type": "code",
   "execution_count": 18,
   "id": "6b34c210",
   "metadata": {},
   "outputs": [],
   "source": [
    "def grade_essay(essay: str) -> dict:\n",
    "    \"\"\"Grade the given essay using the defined workflow.\"\"\"\n",
    "    initial_state = State(\n",
    "        essay=essay,\n",
    "        relevance_score=0.0,\n",
    "        grammar_score=0.0,\n",
    "        structure_score=0.0,\n",
    "        depth_score=0.0,\n",
    "        final_score=0.0\n",
    "    )\n",
    "    result = graph.invoke(initial_state)\n",
    "    return result"
   ]
  },
  {
   "cell_type": "code",
   "execution_count": 19,
   "id": "64e238fc",
   "metadata": {},
   "outputs": [],
   "source": [
    "sample_essay = \"\"\"\n",
    "    The Impact of Artificial Intelligence on Modern Society\n",
    "\n",
    "    Artificial Intelligence (AI) has become an integral part of our daily lives, \n",
    "    revolutionizing various sectors including healthcare, finance, and transportation. \n",
    "    This essay explores the profound effects of AI on modern society, discussing both \n",
    "    its benefits and potential challenges.\n",
    "\n",
    "    One of the most significant impacts of AI is in the healthcare industry. \n",
    "    AI-powered diagnostic tools can analyze medical images with high accuracy, \n",
    "    often surpassing human capabilities. This leads to earlier detection of diseases \n",
    "    and more effective treatment plans. Moreover, AI algorithms can process vast \n",
    "    amounts of medical data to identify patterns and insights that might escape \n",
    "    human observation, potentially leading to breakthroughs in drug discovery and \n",
    "    personalized medicine.\n",
    "\n",
    "    In the financial sector, AI has transformed the way transactions are processed \n",
    "    and monitored. Machine learning algorithms can detect fraudulent activities in \n",
    "    real-time, enhancing security for consumers and institutions alike. Robo-advisors \n",
    "    use AI to provide personalized investment advice, democratizing access to \n",
    "    financial planning services.\n",
    "\n",
    "    The transportation industry is another area where AI is making significant strides. \n",
    "    Self-driving cars, powered by complex AI systems, promise to reduce accidents \n",
    "    caused by human error and provide mobility solutions for those unable to drive. \n",
    "    In logistics, AI optimizes routing and inventory management, leading to more \n",
    "    efficient supply chains and reduced environmental impact.\n",
    "\n",
    "    However, the rapid advancement of AI also presents challenges. There are concerns \n",
    "    about job displacement as AI systems become capable of performing tasks \n",
    "    traditionally done by humans. This raises questions about the need for retraining \n",
    "    and reskilling the workforce to adapt to an AI-driven economy.\n",
    "\n",
    "    Privacy and ethical concerns also arise with the increasing use of AI. The vast \n",
    "    amount of data required to train AI systems raises questions about data privacy \n",
    "    and consent. Additionally, there are ongoing debates about the potential biases \n",
    "    in AI algorithms and the need for transparent and accountable AI systems.\n",
    "\n",
    "    In conclusion, while AI offers tremendous benefits and has the potential to solve \n",
    "    some of humanity's most pressing challenges, it also requires careful consideration \n",
    "    of its societal implications. As we continue to integrate AI into various aspects \n",
    "    of our lives, it is crucial to strike a balance between technological advancement \n",
    "    and ethical considerations, ensuring that the benefits of AI are distributed \n",
    "    equitably across society.\n",
    "    \"\"\""
   ]
  },
  {
   "cell_type": "code",
   "execution_count": 21,
   "id": "5a06f16b",
   "metadata": {},
   "outputs": [
    {
     "ename": "ValidationError",
     "evalue": "1 validation error for State\ngrammer_score\n  Field required [type=missing, input_value={'essay': \"\\n    The Impa...0.0, 'final_score': 0.0}, input_type=dict]\n    For further information visit https://errors.pydantic.dev/2.11/v/missing",
     "output_type": "error",
     "traceback": [
      "\u001b[31m---------------------------------------------------------------------------\u001b[39m",
      "\u001b[31mValidationError\u001b[39m                           Traceback (most recent call last)",
      "\u001b[36mCell\u001b[39m\u001b[36m \u001b[39m\u001b[32mIn[21]\u001b[39m\u001b[32m, line 2\u001b[39m\n\u001b[32m      1\u001b[39m \u001b[38;5;66;03m# Grade the sample essay\u001b[39;00m\n\u001b[32m----> \u001b[39m\u001b[32m2\u001b[39m result = \u001b[43mgrade_essay\u001b[49m\u001b[43m(\u001b[49m\u001b[43msample_essay\u001b[49m\u001b[43m)\u001b[49m\n\u001b[32m      4\u001b[39m \u001b[38;5;66;03m# Display the results\u001b[39;00m\n\u001b[32m      5\u001b[39m \u001b[38;5;28mprint\u001b[39m(\u001b[33mf\u001b[39m\u001b[33m\"\u001b[39m\u001b[33mFinal Essay Score: \u001b[39m\u001b[38;5;132;01m{\u001b[39;00mresult.final_score\u001b[38;5;132;01m:\u001b[39;00m\u001b[33m.2f\u001b[39m\u001b[38;5;132;01m}\u001b[39;00m\u001b[38;5;130;01m\\n\u001b[39;00m\u001b[33m\"\u001b[39m)\n",
      "\u001b[36mCell\u001b[39m\u001b[36m \u001b[39m\u001b[32mIn[18]\u001b[39m\u001b[32m, line 3\u001b[39m, in \u001b[36mgrade_essay\u001b[39m\u001b[34m(essay)\u001b[39m\n\u001b[32m      1\u001b[39m \u001b[38;5;28;01mdef\u001b[39;00m\u001b[38;5;250m \u001b[39m\u001b[34mgrade_essay\u001b[39m(essay: \u001b[38;5;28mstr\u001b[39m) -> \u001b[38;5;28mdict\u001b[39m:\n\u001b[32m      2\u001b[39m \u001b[38;5;250m    \u001b[39m\u001b[33;03m\"\"\"Grade the given essay using the defined workflow.\"\"\"\u001b[39;00m\n\u001b[32m----> \u001b[39m\u001b[32m3\u001b[39m     initial_state = \u001b[43mState\u001b[49m\u001b[43m(\u001b[49m\n\u001b[32m      4\u001b[39m \u001b[43m        \u001b[49m\u001b[43messay\u001b[49m\u001b[43m=\u001b[49m\u001b[43messay\u001b[49m\u001b[43m,\u001b[49m\n\u001b[32m      5\u001b[39m \u001b[43m        \u001b[49m\u001b[43mrelevance_score\u001b[49m\u001b[43m=\u001b[49m\u001b[32;43m0.0\u001b[39;49m\u001b[43m,\u001b[49m\n\u001b[32m      6\u001b[39m \u001b[43m        \u001b[49m\u001b[43mgrammar_score\u001b[49m\u001b[43m=\u001b[49m\u001b[32;43m0.0\u001b[39;49m\u001b[43m,\u001b[49m\n\u001b[32m      7\u001b[39m \u001b[43m        \u001b[49m\u001b[43mstructure_score\u001b[49m\u001b[43m=\u001b[49m\u001b[32;43m0.0\u001b[39;49m\u001b[43m,\u001b[49m\n\u001b[32m      8\u001b[39m \u001b[43m        \u001b[49m\u001b[43mdepth_score\u001b[49m\u001b[43m=\u001b[49m\u001b[32;43m0.0\u001b[39;49m\u001b[43m,\u001b[49m\n\u001b[32m      9\u001b[39m \u001b[43m        \u001b[49m\u001b[43mfinal_score\u001b[49m\u001b[43m=\u001b[49m\u001b[32;43m0.0\u001b[39;49m\n\u001b[32m     10\u001b[39m \u001b[43m    \u001b[49m\u001b[43m)\u001b[49m\n\u001b[32m     11\u001b[39m     result = graph.invoke(initial_state)\n\u001b[32m     12\u001b[39m     \u001b[38;5;28;01mreturn\u001b[39;00m result\n",
      "\u001b[36mFile \u001b[39m\u001b[32md:\\My Files\\GitHub_Materials\\GenAI_Agents\\.venv\\Lib\\site-packages\\pydantic\\main.py:253\u001b[39m, in \u001b[36mBaseModel.__init__\u001b[39m\u001b[34m(self, **data)\u001b[39m\n\u001b[32m    251\u001b[39m \u001b[38;5;66;03m# `__tracebackhide__` tells pytest and some other tools to omit this function from tracebacks\u001b[39;00m\n\u001b[32m    252\u001b[39m __tracebackhide__ = \u001b[38;5;28;01mTrue\u001b[39;00m\n\u001b[32m--> \u001b[39m\u001b[32m253\u001b[39m validated_self = \u001b[38;5;28;43mself\u001b[39;49m\u001b[43m.\u001b[49m\u001b[43m__pydantic_validator__\u001b[49m\u001b[43m.\u001b[49m\u001b[43mvalidate_python\u001b[49m\u001b[43m(\u001b[49m\u001b[43mdata\u001b[49m\u001b[43m,\u001b[49m\u001b[43m \u001b[49m\u001b[43mself_instance\u001b[49m\u001b[43m=\u001b[49m\u001b[38;5;28;43mself\u001b[39;49m\u001b[43m)\u001b[49m\n\u001b[32m    254\u001b[39m \u001b[38;5;28;01mif\u001b[39;00m \u001b[38;5;28mself\u001b[39m \u001b[38;5;129;01mis\u001b[39;00m \u001b[38;5;129;01mnot\u001b[39;00m validated_self:\n\u001b[32m    255\u001b[39m     warnings.warn(\n\u001b[32m    256\u001b[39m         \u001b[33m'\u001b[39m\u001b[33mA custom validator is returning a value other than `self`.\u001b[39m\u001b[38;5;130;01m\\n\u001b[39;00m\u001b[33m'\u001b[39m\n\u001b[32m    257\u001b[39m         \u001b[33m\"\u001b[39m\u001b[33mReturning anything other than `self` from a top level model validator isn\u001b[39m\u001b[33m'\u001b[39m\u001b[33mt supported when validating via `__init__`.\u001b[39m\u001b[38;5;130;01m\\n\u001b[39;00m\u001b[33m\"\u001b[39m\n\u001b[32m    258\u001b[39m         \u001b[33m'\u001b[39m\u001b[33mSee the `model_validator` docs (https://docs.pydantic.dev/latest/concepts/validators/#model-validators) for more details.\u001b[39m\u001b[33m'\u001b[39m,\n\u001b[32m    259\u001b[39m         stacklevel=\u001b[32m2\u001b[39m,\n\u001b[32m    260\u001b[39m     )\n",
      "\u001b[31mValidationError\u001b[39m: 1 validation error for State\ngrammer_score\n  Field required [type=missing, input_value={'essay': \"\\n    The Impa...0.0, 'final_score': 0.0}, input_type=dict]\n    For further information visit https://errors.pydantic.dev/2.11/v/missing"
     ]
    }
   ],
   "source": [
    "# Grade the sample essay\n",
    "result = grade_essay(sample_essay)\n",
    "\n",
    "# Display the results\n",
    "print(f\"Final Essay Score: {result.final_score:.2f}\\n\")\n",
    "print(f\"Relevance Score: {result.relevance_score:.2f}\")\n",
    "print(f\"Grammar Score: {result.grammar_score:.2f}\")\n",
    "print(f\"Structure Score: {result.structure_score:.2f}\")\n",
    "print(f\"Depth Score: {result.depth_score:.2f}\")"
   ]
  },
  {
   "cell_type": "code",
   "execution_count": null,
   "id": "58cd9748",
   "metadata": {},
   "outputs": [],
   "source": []
  }
 ],
 "metadata": {
  "kernelspec": {
   "display_name": ".venv",
   "language": "python",
   "name": "python3"
  },
  "language_info": {
   "codemirror_mode": {
    "name": "ipython",
    "version": 3
   },
   "file_extension": ".py",
   "mimetype": "text/x-python",
   "name": "python",
   "nbconvert_exporter": "python",
   "pygments_lexer": "ipython3",
   "version": "3.13.3"
  }
 },
 "nbformat": 4,
 "nbformat_minor": 5
}
