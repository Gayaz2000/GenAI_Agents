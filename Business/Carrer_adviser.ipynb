{
 "cells": [
  {
   "cell_type": "markdown",
   "id": "6b1213ed",
   "metadata": {},
   "source": [
    "# GenAI Carrer Adviser"
   ]
  },
  {
   "cell_type": "code",
   "execution_count": 7,
   "id": "49a8c9f8",
   "metadata": {},
   "outputs": [],
   "source": [
    "import os\n",
    "from dotenv import load_dotenv\n",
    "load_dotenv()\n",
    "\n",
    "os.environ[\"GROQ_API_KEY\"] = os.getenv(\"GROQ_API_KEY\")"
   ]
  },
  {
   "cell_type": "markdown",
   "id": "ed0d570c",
   "metadata": {},
   "source": [
    "#LLM"
   ]
  },
  {
   "cell_type": "code",
   "execution_count": 8,
   "id": "380366f3",
   "metadata": {},
   "outputs": [],
   "source": [
    "from langchain_groq import ChatGroq\n",
    "\n",
    "llm = ChatGroq(model=\"qwen-qwq-32b\", temperature=0.4)"
   ]
  },
  {
   "cell_type": "markdown",
   "id": "25c5d143",
   "metadata": {},
   "source": [
    "#WorkFlow State"
   ]
  },
  {
   "cell_type": "code",
   "execution_count": 9,
   "id": "3603e1aa",
   "metadata": {},
   "outputs": [],
   "source": [
    "from typing_extensions import TypedDict\n",
    "\n",
    "class State(TypedDict):\n",
    "    query: str \n",
    "    category: str \n",
    "    response: str "
   ]
  },
  {
   "cell_type": "markdown",
   "id": "d6b3e157",
   "metadata": {},
   "source": [
    "#Helper Functions"
   ]
  },
  {
   "cell_type": "code",
   "execution_count": 10,
   "id": "1d93b6b9",
   "metadata": {},
   "outputs": [],
   "source": [
    "from langchain_core.messages import trim_messages\n",
    "from datetime import datetime\n",
    "\n",
    "def message_trimmer(messages, max_messages: int = 10):\n",
    "    \"\"\"Trim conversation history to retain only the last messages within provided limit\"\"\"\n",
    "    return trim_messages(\n",
    "        messages,\n",
    "        max_tokens = max_messages,\n",
    "        strategy = \"last\",\n",
    "        token_counter = len,\n",
    "        start_on = \"human\",\n",
    "        allow_partial = False,\n",
    "        include_system = True,\n",
    "    )\n",
    "\n",
    "def save_file(data, filename):\n",
    "    \"\"\"Saves data to a markdown file with a timestamped filename.\"\"\"\n",
    "    folder_name = \"Agent_output\"  # Folder to store output files\n",
    "    os.makedirs(folder_name, exist_ok=True)  # Creates the folder if it doesn't exist\n",
    "    \n",
    "    # Generate a timestamped filename for uniqueness\n",
    "    timestamp = datetime.now().strftime(\"%Y%m%d%H%M%S\")  # Format: YYYYMMDDHHMMSS\n",
    "    filename = f\"{filename}_{timestamp}.md\"\n",
    "    \n",
    "    # Define the full file path\n",
    "    file_path = os.path.join(folder_name, filename)\n",
    "    \n",
    "    # Save the data to the file in the specified path\n",
    "    with open(file_path, \"w\", encoding=\"utf-8\") as file:\n",
    "        file.write(data)\n",
    "        print(f\"File '{file_path}' created successfully.\")\n",
    "    \n",
    "    # Return the full path of the saved file\n",
    "    return file_path\n",
    "\n",
    "def show_md_file(file_path):\n",
    "    \"\"\"Displays the content of a markdown file as Markdown in the notebook.\"\"\"\n",
    "    with open(file_path, 'r', encoding='utf-8') as file:\n",
    "        content = file.read()\n",
    "    \n",
    "    # Render the content in Markdown format within the notebook\n",
    "    display(Markdown(content))"
   ]
  },
  {
   "cell_type": "markdown",
   "id": "1a976ebb",
   "metadata": {},
   "source": [
    "#Learning Resource Class"
   ]
  },
  {
   "cell_type": "code",
   "execution_count": 11,
   "id": "fcf61b87",
   "metadata": {},
   "outputs": [],
   "source": [
    "from langchain_community.tools import DuckDuckGoSearchResults\n",
    "from langchain.agents import create_tool_calling_agent, AgentExecutor\n",
    "from langchain_core.messages import HumanMessage, AIMessage\n",
    "\n",
    "class LearningResouceAgent:\n",
    "    def __init__(self, prompt):\n",
    "        self.llm = llm\n",
    "        self.prompt = prompt\n",
    "        self.tools = [DuckDuckGoSearchResults()]\n",
    "\n",
    "    def TutorialAgent(self, user_input):\n",
    "        \"\"\"cretes an agent and provides response by invoking it\"\"\"\n",
    "        agent = create_tool_calling_agent(self.llm, self.tools, self.prompt)\n",
    "        agent_executor = AgentExecutor(agent= agent, tools=self.tools, verbose=True)\n",
    "        response = agent_executor.invoke({\"query\": user_input})\n",
    "\n",
    "        path = save_file(str(response.get('output')).replace(\"```markdown\", \"\").strip(), 'Tutorial')\n",
    "        print(f\"Tutorial saved to {path}\")\n",
    "        return path\n",
    "        \n",
    "    def QueryBot(self, user_input):\n",
    "        \"\"\"Interactive q&a bot\"\"\"\n",
    "        print(\"\\nStarting the Q&A session. Type 'exit' to end the session.\\n\")\n",
    "        record_QA_session = []\n",
    "        record_QA_session.append('User Query: %s \\n' % user_input)\n",
    "        self.prompt.append(HumanMessage(content=user_input))\n",
    "        while True:\n",
    "            self.prompt = message_trimmer(self.prompt)\n",
    "            response = self.llm.invoke(self.prompt)\n",
    "            record_QA_session.append('\\nExpert Response: %s \\n' % response.content)\n",
    "\n",
    "            self.prompt.append(AIMessage(content=response.content))\n",
    "            print('*' * 50 + 'AGENT' + '*' * 50)\n",
    "            print(\"\\nEXPERT AGENT RESPONSE:\", response.content)\n",
    "\n",
    "            print('*' * 50 + 'USER' + '*' * 50)\n",
    "            user_input = input(\"\\nYOUR QUERY: \")\n",
    "            record_QA_session.append('\\nUser Query: %s \\n' % response.content)\n",
    "            self.prompt.append(HumanMessage(content=user_input))\n",
    "\n",
    "            if user_input.lower() == \"exit\":\n",
    "                print(\"Ending the chat session.\")"
   ]
  },
  {
   "cell_type": "markdown",
   "id": "46105c1a",
   "metadata": {},
   "source": [
    "#Interview Prep Agent"
   ]
  },
  {
   "cell_type": "code",
   "execution_count": 12,
   "id": "84d4e60c",
   "metadata": {},
   "outputs": [],
   "source": [
    "class InterviewAgent:\n",
    "    def __init__(self, prompt):\n",
    "        self.llm = llm\n",
    "        self.prompt = prompt\n",
    "        self.tools = [DuckDuckGoSearchResults()]\n",
    "\n",
    "    def Interview_questions(self, user_input):\n",
    "        chat_history = []\n",
    "        questions_bank = ''\n",
    "        self.agent = create_tool_calling_agent(self.llm, self.tools, self.prompt)\n",
    "        self.agent_executor = AgentExecutor(agent=self.agent, tools=self.tools, verbose=True, handle_parsing_errors=True)\n",
    "        while True:\n",
    "            print(\"\\nStarting the Interview question preparation. Type 'exit' to end the session.\\n\")\n",
    "            if user_input.lower() == \"exit\":\n",
    "                print(\"Ending the conversation. Goodbye!\")\n",
    "                break \n",
    "            response = self.agent_executor.invoke({\"input\": user_input, \"chat_history\": chat_history})\n",
    "            questions_bank += str(response.get('output')).replace(\"```markdown\", \"\").strip() + \"\\n\"\n",
    "\n",
    "            chat_history.extend([HumanMessage(content=user_input), response[\"output\"]])\n",
    "            if len(chat_history) > 10:\n",
    "                chat_history = chat_history[-10:]\n",
    "\n",
    "            user_input = input(\"You: \")\n",
    "\n",
    "        path = save_file(questions_bank, 'Interview_questions')\n",
    "        print(f\"Interviews question saved to {path}\")\n",
    "        return path\n",
    "    \n",
    "    def Mock_Interview(self):\n",
    "        print(\"\\nStarting the mock interview. Type 'exit' to end the session.\\n\")\n",
    "        \n",
    "        initial_message = 'I am ready for the interview.\\n'\n",
    "        interview_record = []\n",
    "        interview_record.append('Candidate: %s \\n' % initial_message)\n",
    "        self.prompt.append(HumanMessage(content=initial_message))\n",
    "\n",
    "        while True:\n",
    "            self.prompt = message_trimmer(self.prompt)\n",
    "            response = self.llm.invoke(self.prompt)\n",
    "            self.prompt.append(AIMessage(content=response.content))\n",
    "            print(\"\\nInterviewer:\", response.content)\n",
    "            interview_record.append('\\nInterviewer: %s \\n' % response.content)\n",
    "\n",
    "            user_input = input(\"\\nCandidate: \")\n",
    "            interview_record.append('\\nCandidate: %s \\n' % user_input)\n",
    "            self.prompt.append(HumanMessage(content=user_input))\n",
    "            \n",
    "            if user_input.lower() == \"exit\":\n",
    "                print(\"Ending the interview session.\")\n",
    "                path = save_file(''.join(interview_record),'Mock_Interview')\n",
    "                print(f\"Mock Interview saved to {path}\")\n",
    "                return path"
   ]
  },
  {
   "cell_type": "markdown",
   "id": "200039df",
   "metadata": {},
   "source": [
    "#Resume Maker Class"
   ]
  },
  {
   "cell_type": "code",
   "execution_count": 13,
   "id": "49fc948a",
   "metadata": {},
   "outputs": [],
   "source": [
    "class ResumeMaker:\n",
    "    def __init__(self, prompt):\n",
    "        self.model = llm\n",
    "        self.prompt = prompt\n",
    "        self.tools = [DuckDuckGoSearchResults()]\n",
    "        self.agent = create_tool_calling_agent(self.model, self.tools, self.prompt)\n",
    "        self.agent_executor = AgentExecutor(agent=self.agent, tools=self.tools, verbose=True, handle_parsing_errors=True)\n",
    "\n",
    "    def Create_Resume(self, user_input):\n",
    "        chat_history = []\n",
    "        while True:\n",
    "            print(\"\\nStarting the Resume create session. Type 'exit' to end the session.\\n\")\n",
    "            if user_input.lower() == \"exit\":\n",
    "                print(\"Ending the conversation. Goodbye!\")\n",
    "                break\n",
    "            \n",
    "            response = self.agent_executor.invoke({\"input\": user_input, \"chat_history\": chat_history})\n",
    "            chat_history.extend([HumanMessage(content=user_input), response[\"output\"]])\n",
    "\n",
    "            if len(chat_history) > 10:\n",
    "                chat_history = chat_history[-10:]\n",
    "            \n",
    "            user_input = input(\"You: \")\n",
    "        \n",
    "        path = save_file(str(response.get('output')).replace(\"```markdown\", \"\").strip(), 'Resume')\n",
    "        print(f\"Resume saved to {path}\")\n",
    "        return path"
   ]
  },
  {
   "cell_type": "markdown",
   "id": "0d0d734d",
   "metadata": {},
   "source": [
    "#Job Search Class"
   ]
  },
  {
   "cell_type": "code",
   "execution_count": 14,
   "id": "c46ca02f",
   "metadata": {},
   "outputs": [],
   "source": [
    "class JobSearch:\n",
    "    def __init__(self, prompt):\n",
    "        self.model = llm\n",
    "        self.prompt = prompt\n",
    "        self.tools = DuckDuckGoSearchResults()\n",
    "\n",
    "    def find_jobs(self, user_input):\n",
    "        results = self.tools.invoke(user_input)\n",
    "        chain = self.prompt | self.model  \n",
    "        jobs = chain.invoke({\"result\": results}).content\n",
    "        \n",
    "        path = save_file(str(jobs).replace(\"```markdown\", \"\").strip(), 'Job_search')\n",
    "        print(f\"Jobs saved to {path}\")\n",
    "        return path"
   ]
  },
  {
   "cell_type": "markdown",
   "id": "6f02e3df",
   "metadata": {},
   "source": [
    "#Categorization Function"
   ]
  },
  {
   "cell_type": "code",
   "execution_count": 15,
   "id": "712ee042",
   "metadata": {},
   "outputs": [],
   "source": [
    "from langchain_core.prompts import ChatPromptTemplate, MessagesPlaceholder\n",
    "\n",
    "def categorize(state: State) -> State:\n",
    "    \"\"\"Categorizes the user query into one of four main categories: Learn Generative AI Technology, Resume Making, Interview Preparation, or Job Search.\"\"\"\n",
    "    prompt = ChatPromptTemplate.from_template(\n",
    "        \"Categorize the following customer query into one of these categories:\\n\"\n",
    "        \"1: Learn Generative AI Technology\\n\"\n",
    "        \"2: Resume Making\\n\"\n",
    "        \"3: Interview Preparation\\n\"\n",
    "        \"4: Job Search\\n\"\n",
    "        \"Give the number only as an output.\\n\\n\"\n",
    "        \"Examples:\\n\"\n",
    "        \"1. Query: 'What are the basics of generative AI, and how can I start learning it?' -> 1\\n\"\n",
    "        \"2. Query: 'Can you help me improve my resume for a tech position?' -> 2\\n\"\n",
    "        \"3. Query: 'What are some common questions asked in AI interviews?' -> 3\\n\"\n",
    "        \"4. Query: 'Are there any job openings for AI engineers?' -> 4\\n\\n\"\n",
    "        \"Now, categorize the following customer query:\\n\"\n",
    "        \"Query: {query}\"\n",
    "    )\n",
    "    chain = prompt | llm \n",
    "    print('Categorizing the customer query...')\n",
    "    category = chain.invoke({\"query\": state[\"query\"]}).content\n",
    "    #state.category = category\n",
    "    return {\"category\": category}"
   ]
  },
  {
   "cell_type": "code",
   "execution_count": 16,
   "id": "d73350d7",
   "metadata": {},
   "outputs": [],
   "source": [
    "def handle_learning_resource(state: State) -> State:\n",
    "    \"\"\"Determines if the query is related to Tutorial creation or general Questions on generative AI topics.\"\"\"\n",
    "    prompt = ChatPromptTemplate.from_template(\n",
    "        \"Categorize the following user query into one of these categories:\\n\\n\"\n",
    "        \"Categories:\\n\"\n",
    "        \"- Tutorial: For queries related to creating tutorials, blogs, or documentation on generative AI.\\n\"\n",
    "        \"- Question: For general queries asking about generative AI topics.\\n\"\n",
    "        \"- Default to Question if the query doesn't fit either of these categories.\\n\\n\"\n",
    "        \"Examples:\\n\"\n",
    "        \"1. User query: 'How to create a blog on prompt engineering for generative AI?' -> Category: Tutorial\\n\"\n",
    "        \"2. User query: 'Can you provide a step-by-step guide on fine-tuning a generative model?' -> Category: Tutorial\\n\"\n",
    "        \"3. User query: 'Provide me the documentation for Langchain?' -> Category: Tutorial\\n\"\n",
    "        \"4. User query: 'What are the main applications of generative AI?' -> Category: Question\\n\"\n",
    "        \"5. User query: 'Is there any generative AI course available?' -> Category: Question\\n\\n\"\n",
    "        \"Now, categorize the following user query:\\n\"\n",
    "        \"The user query is: {query}\\n\"\n",
    "    )\n",
    "\n",
    "    chain = prompt | llm \n",
    "    print('Categorizing the customer query further...')\n",
    "    response = chain.invoke({\"query\": state[\"query\"]}).content\n",
    "    return {\"category\": response}"
   ]
  },
  {
   "cell_type": "code",
   "execution_count": 17,
   "id": "5c1f51e1",
   "metadata": {},
   "outputs": [],
   "source": [
    "def handle_interview_preparation(state: State) -> State:\n",
    "    \"\"\"Determines if the query is related to Mock Interviews or general Interview Questions.\"\"\"\n",
    "    prompt = ChatPromptTemplate.from_template(\n",
    "        \"Categorize the following user query into one of these categories:\\n\\n\"\n",
    "        \"Categories:\\n\"\n",
    "        \"- Mock: For requests related to mock interviews.\\n\"\n",
    "        \"- Question: For general queries asking about interview topics or preparation.\\n\"\n",
    "        \"- Default to Question if the query doesn't fit either of these categories.\\n\\n\"\n",
    "        \"Examples:\\n\"\n",
    "        \"1. User query: 'Can you conduct a mock interview with me for a Gen AI role?' -> Category: Mock\\n\"\n",
    "        \"2. User query: 'What topics should I prepare for an AI Engineer interview?' -> Category: Question\\n\"\n",
    "        \"3. User query: 'I need to practice interview focused on Gen AI.' -> Category: Mock\\n\"\n",
    "        \"4. User query: 'Can you list important coding topics for AI tech interviews?' -> Category: Question\\n\\n\"\n",
    "        \"Now, categorize the following user query:\\n\"\n",
    "        \"The user query is: {query}\\n\"\n",
    "    )\n",
    "\n",
    "    chain = prompt | llm \n",
    "    print('Categorizing the customer query further...')\n",
    "    response = chain.invoke({\"query\": state[\"query\"]}).content\n",
    "    return {\"category\": response}"
   ]
  },
  {
   "cell_type": "code",
   "execution_count": 18,
   "id": "8588429c",
   "metadata": {},
   "outputs": [],
   "source": [
    "def job_search(state: State) -> State:\n",
    "    \"\"\"Provide a job search response based on user query requirements.\"\"\"\n",
    "    prompt = ChatPromptTemplate.from_template('''Your task is to refactor and make .md file for the this content which includes\n",
    "    the jobs available in the market. Refactor such that user can refer easily. Content: {result}''')\n",
    "    jobSearch = JobSearch(prompt)\n",
    "    state[\"query\"] = input('Please make sure to mention Job location you want,Job roles\\n')\n",
    "    path = jobSearch.find_jobs(state[\"query\"])\n",
    "    show_md_file(path)\n",
    "    return {\"response\": path}"
   ]
  },
  {
   "cell_type": "code",
   "execution_count": 19,
   "id": "23a3060f",
   "metadata": {},
   "outputs": [],
   "source": [
    "def handle_resume_making(state: State) -> State:\n",
    "    \"\"\"Generate a customized resume based on user details for a tech role in AI and Generative AI.\"\"\"\n",
    "    prompt = ChatPromptTemplate.from_messages([\n",
    "        (\"system\", '''You are a skilled resume expert with extensive experience in crafting resumes tailored for tech roles, especially in AI and Generative AI. \n",
    "        Your task is to create a resume template for an AI Engineer specializing in Generative AI, incorporating trending keywords and technologies in the current job market. \n",
    "        Feel free to ask users for any necessary details such as skills, experience, or projects to complete the resume. \n",
    "        Try to ask details step by step and try to ask all details within 4 to 5 steps.\n",
    "        Ensure the final resume is in .md format.'''),\n",
    "       MessagesPlaceholder(\"chat_history\"),\n",
    "        (\"human\", \"{input}\"),\n",
    "        (\"placeholder\", \"{agent_scratchpad}\"),\n",
    "    ])\n",
    "    resumeMaker = ResumeMaker(prompt)\n",
    "    path = resumeMaker.Create_Resume(state[\"query\"])\n",
    "    show_md_file(path)\n",
    "    return {\"response\": path}"
   ]
  },
  {
   "cell_type": "code",
   "execution_count": 20,
   "id": "2a296e28",
   "metadata": {},
   "outputs": [],
   "source": [
    "from langchain_core.messages import SystemMessage \n",
    "\n",
    "def ask_query_bot(state: State) -> State:\n",
    "    \"\"\"Provide detailed answers to user queries related to Generative AI.\"\"\"\n",
    "    system_message = '''You are an expert Generative AI Engineer with extensive experience in training and guiding others in AI engineering. \n",
    "    You have a strong track record of solving complex problems and addressing various challenges in AI. \n",
    "    Your role is to assist users by providing insightful solutions and expert advice on their queries.\n",
    "    Engage in a back-and-forth chat session to address user queries.'''\n",
    "    prompt = [SystemMessage(content=system_message)]\n",
    "\n",
    "    learning_agent = LearningResouceAgent(prompt)\n",
    "\n",
    "    path = learning_agent.QueryBot(state[\"query\"])\n",
    "    show_md_file(path)\n",
    "    return {\"response\": path}"
   ]
  },
  {
   "cell_type": "code",
   "execution_count": 21,
   "id": "1399e48f",
   "metadata": {},
   "outputs": [],
   "source": [
    "def tutorial_agent(state: State) -> State:\n",
    "    \"\"\"Generate a tutorial blog for Generative AI based on user requirements.\"\"\"\n",
    "    system_message = '''You are a knowledgeable assistant specializing as a Senior Generative AI Developer with extensive experience in both development and tutoring. \n",
    "         Additionally, you are an experienced blogger who creates tutorials focused on Generative AI.\n",
    "         Your task is to develop high-quality tutorials blogs in .md file with Coding example based on the user's requirements. \n",
    "         Ensure tutorial includes clear explanations, well-structured python code, comments, and fully functional code examples.\n",
    "         Provide resource reference links at the end of each tutorial for further learning.'''\n",
    "    prompt = ChatPromptTemplate.from_messages([(\"system\", system_message),\n",
    "            (\"placeholder\", \"{chat_history}\"),\n",
    "            (\"human\", \"{input}\"),\n",
    "            (\"placeholder\", \"{agent_scratchpad}\"),])\n",
    "    learning_agent = LearningResouceAgent(prompt)\n",
    "    path = learning_agent.TutorialAgent(state[\"query\"])\n",
    "    show_md_file(path)\n",
    "    return {\"response\": path}"
   ]
  },
  {
   "cell_type": "code",
   "execution_count": 22,
   "id": "61d8e893",
   "metadata": {},
   "outputs": [],
   "source": [
    "def interview_topics_questions(state: State) -> State:\n",
    "    \"\"\"Provide a curated list of interview questions related to Generative AI based on user input.\"\"\"\n",
    "    system_message = '''You are a good researcher in finding interview questions for Generative AI topics and jobs.\n",
    "                     Your task is to provide a list of interview questions for Generative AI topics and job based on user requirements.\n",
    "                     Provide top questions with references and links if possible. You may ask for clarification if needed.\n",
    "                     Generate a .md document containing the questions.'''\n",
    "    prompt = ChatPromptTemplate.from_messages([\n",
    "                        (\"system\", system_message),\n",
    "                        MessagesPlaceholder(\"chat_history\"),\n",
    "                        (\"human\", \"{input}\"),\n",
    "                        (\"placeholder\", \"{agent_scratchpad}\"),])\n",
    "    interview_agent = InterviewAgent(prompt)\n",
    "    path = interview_agent.Interview_questions(state[\"query\"])\n",
    "    show_md_file(path)\n",
    "    return {\"response\": path}"
   ]
  },
  {
   "cell_type": "code",
   "execution_count": 24,
   "id": "ca6d9afe",
   "metadata": {},
   "outputs": [],
   "source": [
    "def mock_interview(state: State) -> State:\n",
    "    \"\"\"Conduct a mock interview for a Generative AI position, including evaluation at the end.\"\"\"\n",
    "    system_message = '''You are a Generative AI Interviewer. You have conducted numerous interviews for Generative AI roles.\n",
    "         Your task is to conduct a mock interview for a Generative AI position, engaging in a back-and-forth interview session.\n",
    "         The conversation should not exceed more than 15 to 20 minutes.\n",
    "         At the end of the interview, provide an evaluation for the candidate.'''\n",
    "    prompt = [SystemMessage(content=system_message)]\n",
    "    interview_agent = InterviewAgent(prompt)\n",
    "    path = interview_agent.Mock_Interview()\n",
    "    show_md_file(path)\n",
    "    return {\"response\": path}"
   ]
  },
  {
   "cell_type": "code",
   "execution_count": 25,
   "id": "87f4540d",
   "metadata": {},
   "outputs": [],
   "source": [
    "def route_query(state: State):\n",
    "    \"\"\"Route the query based on its category to the appropriate handler.\"\"\"\n",
    "    if '1' in state[\"category\"]:\n",
    "        print('Category: handle_learning_resource')\n",
    "        return \"handle_learning_resource\" \n",
    "    elif '2' in state[\"category\"]:\n",
    "        print('Category: handle_resume_making')\n",
    "        return \"handle_resume_making\"  \n",
    "    elif '3' in state[\"category\"]:\n",
    "        print('Category: handle_interview_preparation')\n",
    "        return \"handle_interview_preparation\"  \n",
    "    elif '4' in state[\"category\"]:\n",
    "        print('Category: job_search')\n",
    "        return \"job_search\" \n",
    "    else:\n",
    "        print(\"Please ask your question based on my description.\")\n",
    "        return False"
   ]
  },
  {
   "cell_type": "code",
   "execution_count": 26,
   "id": "7da3ebee",
   "metadata": {},
   "outputs": [],
   "source": [
    "def route_interview(state: State) -> str:\n",
    "    \"\"\"Route the query to the appropriate interview-related handler.\"\"\"\n",
    "    if 'Question'.lower() in state[\"category\"].lower():\n",
    "        print('Category: interview_topics_questions')\n",
    "        return \"interview_topics_questions\"  \n",
    "    elif 'Mock'.lower() in state[\"category\"].lower():\n",
    "        print('Category: mock_interview')\n",
    "        return \"mock_interview\"  \n",
    "    else:\n",
    "        print('Category: mock_interview')\n",
    "        return \"mock_interview\""
   ]
  },
  {
   "cell_type": "code",
   "execution_count": 27,
   "id": "a3ab4080",
   "metadata": {},
   "outputs": [],
   "source": [
    "def route_learning(state: State):\n",
    "    \"\"\"Route the query based on the learning path category.\"\"\"\n",
    "    if 'Question'.lower() in state[\"category\"].lower():\n",
    "        print('Category: ask_query_bot')\n",
    "        return \"ask_query_bot\" \n",
    "    elif 'Tutorial'.lower() in state[\"category\"].lower():\n",
    "        print('Category: tutorial_agent')\n",
    "        return \"tutorial_agent\"  \n",
    "    else:\n",
    "        print(\"Please ask your question based on my interview description.\")\n",
    "        return False"
   ]
  },
  {
   "cell_type": "markdown",
   "id": "bdad5625",
   "metadata": {},
   "source": [
    "#WorkFlow"
   ]
  },
  {
   "cell_type": "code",
   "execution_count": 28,
   "id": "02fa1a21",
   "metadata": {},
   "outputs": [],
   "source": [
    "from langgraph.graph import StateGraph, START, END\n",
    "\n",
    "workflow = StateGraph(State)\n",
    "\n",
    "workflow.add_node(\"categorize\", categorize)  \n",
    "workflow.add_node(\"handle_learning_resource\", handle_learning_resource) \n",
    "workflow.add_node(\"handle_resume_making\", handle_resume_making)  \n",
    "workflow.add_node(\"handle_interview_preparation\", handle_interview_preparation)  \n",
    "workflow.add_node(\"job_search\", job_search)  \n",
    "workflow.add_node(\"mock_interview\", mock_interview)  \n",
    "workflow.add_node(\"interview_topics_questions\", interview_topics_questions) \n",
    "workflow.add_node(\"tutorial_agent\", tutorial_agent)  \n",
    "workflow.add_node(\"ask_query_bot\", ask_query_bot)  \n",
    "\n",
    "workflow.add_edge(START, \"categorize\")\n",
    "\n",
    "workflow.add_conditional_edges(\n",
    "    \"categorize\",\n",
    "    route_query,\n",
    "    {\n",
    "        \"handle_learning_resource\": \"handle_learning_resource\",\n",
    "        \"handle_resume_making\": \"handle_resume_making\",\n",
    "        \"handle_interview_preparation\": \"handle_interview_preparation\",\n",
    "        \"job_search\": \"job_search\"\n",
    "    }\n",
    ")\n",
    "\n",
    "workflow.add_conditional_edges(\n",
    "    \"handle_interview_preparation\",\n",
    "    route_interview,\n",
    "    {\n",
    "        \"mock_interview\": \"mock_interview\",\n",
    "        \"interview_topics_questions\": \"interview_topics_questions\",\n",
    "    }\n",
    ")\n",
    "\n",
    "workflow.add_conditional_edges(\n",
    "    \"handle_learning_resource\",\n",
    "    route_learning,\n",
    "    {\n",
    "        \"tutorial_agent\": \"tutorial_agent\",\n",
    "        \"ask_query_bot\": \"ask_query_bot\",\n",
    "    }\n",
    ")\n",
    "\n",
    "workflow.add_edge(\"handle_resume_making\", END)\n",
    "workflow.add_edge(\"job_search\", END)\n",
    "workflow.add_edge(\"interview_topics_questions\", END)\n",
    "workflow.add_edge(\"mock_interview\", END)\n",
    "workflow.add_edge(\"ask_query_bot\", END)\n",
    "workflow.add_edge(\"tutorial_agent\", END)\n",
    "\n",
    "workflow.set_entry_point(\"categorize\")\n",
    "\n",
    "app = workflow.compile()"
   ]
  },
  {
   "cell_type": "markdown",
   "id": "015c47e2",
   "metadata": {},
   "source": [
    "#Graph Image"
   ]
  },
  {
   "cell_type": "code",
   "execution_count": 30,
   "id": "dd445a5a",
   "metadata": {},
   "outputs": [
    {
     "data": {
      "image/png": "[encoded data removed]",
      "text/plain": [
       "<IPython.core.display.Image object>"
      ]
     },
     "metadata": {},
     "output_type": "display_data"
    }
   ],
   "source": [
    "from langchain_core.runnables.graph import MermaidDrawMethod\n",
    "from IPython.display import Image\n",
    "\n",
    "display(\n",
    "    Image(\n",
    "        app.get_graph().draw_mermaid_png(\n",
    "            draw_method=MermaidDrawMethod.API,\n",
    "        )\n",
    "    )\n",
    ")"
   ]
  },
  {
   "cell_type": "code",
   "execution_count": 31,
   "id": "fd8dd103",
   "metadata": {},
   "outputs": [],
   "source": [
    "from typing_extensions import Dict\n",
    "\n",
    "def run_user_query(query: str) -> Dict[str, str]:\n",
    "    \"\"\"Process a user query through the LangGraph workflow.\n",
    "    \n",
    "    Args:\n",
    "        query (str): The user's query\n",
    "        \n",
    "    Returns:\n",
    "        Dict[str, str]: A dictionary containing the query's category and response\n",
    "    \"\"\"\n",
    "    results = app.invoke({\"query\": query})\n",
    "    return {\n",
    "        \"category\": results[\"category\"],\n",
    "        \"response\": results[\"response\"]\n",
    "    }"
   ]
  },
  {
   "cell_type": "markdown",
   "id": "4972b650",
   "metadata": {},
   "source": [
    "#TestCase"
   ]
  },
  {
   "cell_type": "code",
   "execution_count": 1,
   "id": "7a156c27",
   "metadata": {},
   "outputs": [
    {
     "ename": "NameError",
     "evalue": "name 'run_user_query' is not defined",
     "output_type": "error",
     "traceback": [
      "\u001b[31m---------------------------------------------------------------------------\u001b[39m",
      "\u001b[31mNameError\u001b[39m                                 Traceback (most recent call last)",
      "\u001b[36mCell\u001b[39m\u001b[36m \u001b[39m\u001b[32mIn[1]\u001b[39m\u001b[32m, line 2\u001b[39m\n\u001b[32m      1\u001b[39m query = \u001b[33m\"\u001b[39m\u001b[33mcan you prepare a resume for genai role?\u001b[39m\u001b[33m\"\u001b[39m\n\u001b[32m----> \u001b[39m\u001b[32m2\u001b[39m result = \u001b[43mrun_user_query\u001b[49m(query)\n\u001b[32m      3\u001b[39m \u001b[38;5;28mprint\u001b[39m(result)\n",
      "\u001b[31mNameError\u001b[39m: name 'run_user_query' is not defined"
     ]
    }
   ],
   "source": [
    "query = \"can you prepare a resume for genai role?\"\n",
    "result = run_user_query(query)\n",
    "print(result)"
   ]
  },
  {
   "cell_type": "code",
   "execution_count": null,
   "id": "c97edabb",
   "metadata": {},
   "outputs": [],
   "source": []
  }
 ],
 "metadata": {
  "kernelspec": {
   "display_name": ".venv",
   "language": "python",
   "name": "python3"
  },
  "language_info": {
   "codemirror_mode": {
    "name": "ipython",
    "version": 3
   },
   "file_extension": ".py",
   "mimetype": "text/x-python",
   "name": "python",
   "nbconvert_exporter": "python",
   "pygments_lexer": "ipython3",
   "version": "3.13.3"
  }
 },
 "nbformat": 4,
 "nbformat_minor": 5
}
