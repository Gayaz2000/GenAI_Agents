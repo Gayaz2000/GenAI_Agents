{
 "cells": [
  {
   "cell_type": "markdown",
   "id": "06b54be6",
   "metadata": {},
   "source": [
    "# Automatic Podcast Generation System"
   ]
  },
  {
   "cell_type": "code",
   "execution_count": null,
   "id": "9e5d9f9f",
   "metadata": {},
   "outputs": [],
   "source": [
    "import os\n",
    "from dotenv import load_dotenv\n",
    "load_dotenv()\n",
    "\n",
    "os.environ[\"GROQ_API_KEY\"] = os.getenv(\"GROQ_API_KEY\")"
   ]
  }
 ],
 "metadata": {
  "kernelspec": {
   "display_name": ".venv",
   "language": "python",
   "name": "python3"
  },
  "language_info": {
   "name": "python",
   "version": "3.13.3"
  }
 },
 "nbformat": 4,
 "nbformat_minor": 5
}
