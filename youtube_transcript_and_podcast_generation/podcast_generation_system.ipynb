{
 "cells": [
  {
   "cell_type": "markdown",
   "id": "06b54be6",
   "metadata": {},
   "source": [
    "# Automatic Podcast Generation System"
   ]
  },
  {
   "cell_type": "code",
   "execution_count": 1,
   "id": "9e5d9f9f",
   "metadata": {},
   "outputs": [],
   "source": [
    "import os\n",
    "from dotenv import load_dotenv\n",
    "load_dotenv()\n",
    "\n",
    "os.environ[\"GROQ_API_KEY\"] = os.getenv(\"GROQ_API_KEY\")\n",
    "os.environ[\"TAVILY_API_KEY\"] = os.getenv(\"TAVILY_API_KEY\")"
   ]
  },
  {
   "cell_type": "markdown",
   "id": "4a2c985e",
   "metadata": {},
   "source": [
    "#LLM Model"
   ]
  },
  {
   "cell_type": "code",
   "execution_count": 5,
   "id": "cf16d4a7",
   "metadata": {},
   "outputs": [],
   "source": [
    "import nest_asyncio\n",
    "nest_asyncio.apply()\n",
    "\n",
    "import asyncio"
   ]
  },
  {
   "cell_type": "code",
   "execution_count": 10,
   "id": "af0dd255",
   "metadata": {},
   "outputs": [],
   "source": [
    "from langchain_groq import ChatGroq\n",
    "\n",
    "async def get_llm(model: str =\"llama3-70b-8192\", temp: float =0, max_tokens: int=1000):\n",
    "    \"\"\"Loads the model from groq cloud\"\"\"\n",
    "    model = ChatGroq(model=model, temperature=temp, max_tokens=max_tokens)\n",
    "    return model"
   ]
  },
  {
   "cell_type": "code",
   "execution_count": 11,
   "id": "38fa2b9e",
   "metadata": {},
   "outputs": [],
   "source": [
    "from langchain_google_genai import ChatGoogleGenerativeAI\n",
    "\n",
    "async def podcast_model():\n",
    "    \"\"\"Loads LLM model to generate podcast\"\"\"\n",
    "\n",
    "    model = ChatGoogleGenerativeAI(\n",
    "            model_name=\"gemini-1.5-flash\",\n",
    "            model_kwargs={\n",
    "                \"temperature\": 0.21,\n",
    "                \"top_p\": 0.95,\n",
    "                \"top_k\": 64,\n",
    "                \"max_output_tokens\": 5000,\n",
    "                \"response_mime_type\": \"text/plain\",\n",
    "            },\n",
    "        )\n",
    "    return  model"
   ]
  },
  {
   "cell_type": "markdown",
   "id": "35d9d20e",
   "metadata": {},
   "source": [
    "#Graphs"
   ]
  },
  {
   "cell_type": "markdown",
   "id": "91e54005",
   "metadata": {},
   "source": [
    "##Sub-Graph"
   ]
  },
  {
   "cell_type": "code",
   "execution_count": 12,
   "id": "23aadf3c",
   "metadata": {},
   "outputs": [],
   "source": [
    "# subgraph state\n",
    "from typing_extensions import TypedDict\n",
    "\n",
    "class Planning(TypedDict):\n",
    "    topic: str\n",
    "    keywords: list[str]\n",
    "    subtopics: list[str]"
   ]
  },
  {
   "cell_type": "code",
   "execution_count": 26,
   "id": "7bb11aee",
   "metadata": {},
   "outputs": [],
   "source": [
    "from pydantic import BaseModel, Field\n",
    "\n",
    "class KeyWords(BaseModel):\n",
    "    \"\"\"Answer with atleast 5 keywords that you thik are relevant to the topic\"\"\"\n",
    "    keys: list = Field(description=\"list of at least 5 keywords related to the topic\")\n",
    "\n",
    "get_keyword =  asyncio.run(get_llm(temp=0.1))\n",
    "model_keywords = get_keyword.with_structured_output(KeyWords)"
   ]
  },
  {
   "cell_type": "code",
   "execution_count": null,
   "id": "9d7aa992",
   "metadata": {},
   "outputs": [
    {
     "data": {
      "text/plain": [
       "KeyWords(keys=['FineTuning'])"
      ]
     },
     "execution_count": 15,
     "metadata": {},
     "output_type": "execute_result"
    }
   ],
   "source": [
    "#model_keywords.invoke(\"FineTuning\")"
   ]
  },
  {
   "cell_type": "code",
   "execution_count": 17,
   "id": "e8777210",
   "metadata": {},
   "outputs": [],
   "source": [
    "class SubTopics(BaseModel):\n",
    "    \"\"\"Answer with atleast 5 subtopics related to the topic\"\"\"\n",
    "    subtopics: list = Field(description=\"list of atleast 5 subtopics related to the topic\")\n",
    "\n",
    "class Structure(BaseModel):\n",
    "    \"\"\"Structure of podcast having an account of the topic and the keywords\"\"\"\n",
    "    subtopics : list[SubTopics] = Field(description=\"5 subtopics we will review in the podcast related to the Topic and the Keyword\")\n",
    "\n",
    "podcast_structure = asyncio.run(get_llm(temp=0.3))\n",
    "model_structure = podcast_structure.with_structured_output(Structure)"
   ]
  },
  {
   "cell_type": "code",
   "execution_count": 27,
   "id": "3612b43d",
   "metadata": {},
   "outputs": [],
   "source": [
    "#Subgraph Functions\n",
    "from langchain_core.messages import SystemMessage\n",
    "\n",
    "async def get_keywords(state: Planning):\n",
    "    \"\"\"generates keywords from the given topic\"\"\"\n",
    "    topic = state[\"topic\"]\n",
    "    messages = [SystemMessage(content=\"You task is to generate 5 relevant words about the following topic: \" + topic)]\n",
    "    response = await model_keywords.ainvoke(messages)\n",
    "    return {\"keywords\": response.keys}"
   ]
  },
  {
   "cell_type": "code",
   "execution_count": 28,
   "id": "62b249f8",
   "metadata": {},
   "outputs": [],
   "source": [
    "async def get_structure(state: Planning):\n",
    "    \"\"\"Retrieve a structured content for podcast generation with topics and keywords\"\"\"\n",
    "    topic = state[\"topic\"]\n",
    "    keywords = state[\"keywords\"]\n",
    "    messages = [SystemMessage(content=\"You task is to generate 5 subtopics to make a podcast about the following topic: \" + topic +\"and the following keywords:\" + \" \".join(keywords))]\n",
    "    response = await model_structure.ainvoke(messages)\n",
    "    return {\"subtopics\": response.subtopics}"
   ]
  },
  {
   "cell_type": "code",
   "execution_count": 29,
   "id": "b699a3e6",
   "metadata": {},
   "outputs": [],
   "source": [
    "#Building SubGraph\n",
    "from langgraph.graph import StateGraph, START, END\n",
    "\n",
    "planner_build = StateGraph(Planning)\n",
    "\n",
    "#add nodes\n",
    "planner_build.add_node(\"KeyWords\", get_keywords)\n",
    "planner_build.add_node(\"Structure\", get_structure)\n",
    "\n",
    "#add edges\n",
    "planner_build.add_edge(START, \"KeyWords\")\n",
    "planner_build.add_edge(\"KeyWords\", \"Structure\")\n",
    "planner_build.add_edge(\"Structure\", END)\n",
    "\n",
    "plan_graph = planner_build.compile()"
   ]
  },
  {
   "cell_type": "code",
   "execution_count": 31,
   "id": "3bf7e92f",
   "metadata": {},
   "outputs": [
    {
     "data": {
      "image/png": "[encoded data removed]",
      "text/plain": [
       "<IPython.core.display.Image object>"
      ]
     },
     "metadata": {},
     "output_type": "display_data"
    }
   ],
   "source": [
    "#Displaying SubGraph\n",
    "from IPython.display import display, Image\n",
    "\n",
    "display(Image(plan_graph.get_graph().draw_mermaid_png()))"
   ]
  },
  {
   "cell_type": "code",
   "execution_count": 32,
   "id": "012e53c4",
   "metadata": {},
   "outputs": [
    {
     "data": {
      "text/plain": [
       "{'topic': 'What is Attention in human cognition',\n",
       " 'keywords': ['attention', 'cognition', 'focus', 'perception', 'processing'],\n",
       " 'subtopics': [SubTopics(subtopics=['The Neuroscience of Attention', 'Types of Attention', 'Attention and Perception', 'The Role of Attention in Cognitive Processing', 'Training Attention for Improved Focus'])]}"
      ]
     },
     "execution_count": 32,
     "metadata": {},
     "output_type": "execute_result"
    }
   ],
   "source": [
    "await plan_graph.ainvoke({\"topic\": \"What is Attention in human cognition\"})"
   ]
  },
  {
   "cell_type": "markdown",
   "id": "6a8542e8",
   "metadata": {},
   "source": [
    "#Conduct Podcast (SubGraph)"
   ]
  },
  {
   "cell_type": "code",
   "execution_count": 33,
   "id": "db9db985",
   "metadata": {},
   "outputs": [],
   "source": [
    "from langgraph.graph import MessagesState\n",
    "from typing_extensions import Annotated\n",
    "import operator\n",
    "\n",
    "class InterviewState(MessagesState):\n",
    "    topic : str\n",
    "    max_num_turns : int\n",
    "    content: Annotated[list, operator.add]\n",
    "    section: str\n",
    "    sections: list\n"
   ]
  },
  {
   "cell_type": "code",
   "execution_count": 35,
   "id": "5569b10e",
   "metadata": {},
   "outputs": [],
   "source": [
    "class SearchQuery(BaseModel):\n",
    "    search_query: str = Field(None, description=\"Search query for retrieval\")\n",
    "\n",
    "podcast_groq = asyncio.run(get_llm())\n",
    "structured_llm = podcast_groq.with_structured_output(SearchQuery)"
   ]
  },
  {
   "cell_type": "code",
   "execution_count": 36,
   "id": "6f950c85",
   "metadata": {},
   "outputs": [],
   "source": [
    "query_instructions = \"\"\"\n",
    "    You are a host for popular podcast and you are tasked to interviewing an expert to learn about scientific topic.\n",
    "    Your goal is to boil down to interesting and specific insights related to your topic.\n",
    "    1) Interesting: Insights that people will find interesting and obvious.\n",
    "    2) Specific: Insights that avoid generalities and include specific examples form the expert.\n",
    "    Here is your topic of focus and set of goals: {topic}\n",
    "    #\n",
    "    - Begin by intorducing the topic that fits your goals, and then ask your question.\n",
    "    - Continue to ask question to drill down and refine your knowledge about the topic.\n",
    "    - When you are satisfied with your understanding, complete the interview with: \"Thank you so much for your help\"\n",
    "    Remember to stay in character throughout  the response\n",
    "\"\"\""
   ]
  },
  {
   "cell_type": "code",
   "execution_count": 37,
   "id": "3d784490",
   "metadata": {},
   "outputs": [],
   "source": [
    "async def generate_question(state: InterviewState):\n",
    "    \"\"\"Generates a question for podcast interview\"\"\"\n",
    "    topic = state[\"topic\"]\n",
    "    messages = state[\"messages\"]\n",
    "\n",
    "    system_message = query_instructions.format(topic)\n",
    "    question = await podcast_groq.ainvoke([SystemMessage(content=system_message)] + messages)\n",
    "    return {\"messages\": question}"
   ]
  },
  {
   "cell_type": "code",
   "execution_count": 38,
   "id": "f86fd30d",
   "metadata": {},
   "outputs": [],
   "source": [
    "web_search_instructions = \"\"\"\n",
    "    You will be given a conversation between host of a popular podcast and an expert.\n",
    "    Your goal is to genrate a well structured query for use in retrieval and / or web search related to the conversation.\n",
    "    First analyze the full conversation.\n",
    "    Pay particular attention to the final question posed by the host.\n",
    "    Convert this question into well structured web search query.\n",
    "\"\"\""
   ]
  },
  {
   "cell_type": "code",
   "execution_count": 39,
   "id": "904ef9b5",
   "metadata": {},
   "outputs": [],
   "source": [
    "from langchain_community.tools.ddg_search import DuckDuckGoSearchRun\n",
    "\n",
    "async def search_web(state: MessagesState):\n",
    "    \"\"\"Performs web search for relevant context\"\"\"\n",
    "    search_instructions = [SystemMessage(content= web_search_instructions)]\n",
    "    search_query = await structured_llm.ainvoke(search_instructions + state[\"messages\"])\n",
    "\n",
    "    web_search = DuckDuckGoSearchRun(max_results=3)\n",
    "    search_docs = await web_search.ainvoke(search_query.search_query)\n",
    "\n",
    "    formatted_search_docs = \"\\n\\n--\\n\\n\".join(\n",
    "        [\n",
    "            f'<Document href=\"{doc[\"url\"]}\"/>\\n{doc[\"content\"]}\\n</Document>'\n",
    "            for doc in search_docs\n",
    "        ]\n",
    "    )\n",
    "    return {\"content\": [formatted_search_docs]}"
   ]
  },
  {
   "cell_type": "code",
   "execution_count": 40,
   "id": "d627ddfa",
   "metadata": {},
   "outputs": [],
   "source": [
    "from langchain_community.document_loaders import WikipediaLoader\n",
    "\n",
    "async def  search_wikipedia(state: InterviewState):\n",
    "    \"\"\"performs a wikipedia search for relevant content\"\"\"\n",
    "    search_instructions = [SystemMessage(content= web_search_instructions)]\n",
    "    search_query = await structured_llm.ainvoke(search_instructions + state[\"messages\"])\n",
    "\n",
    "    search_docs = WikipediaLoader(search_query.search_query, load_max_docs=2).load()\n",
    "    formatted_search_docs = \"\\n\\n---\\n\\n\".join(\n",
    "        [\n",
    "            f'<Document source=\"{doc.metadata[\"source\"]}\" page=\"{doc.metadata.get(\"page\", \"\")}\"/>\\n{doc.page_content}\\n</Document>'\n",
    "            for doc in search_docs\n",
    "        ]\n",
    "    )\n",
    "    return {\"content\": [formatted_search_docs]}"
   ]
  },
  {
   "cell_type": "code",
   "execution_count": 41,
   "id": "d3ad6572",
   "metadata": {},
   "outputs": [],
   "source": [
    "answer_instructions = \"\"\"\n",
    "    You are an expert being interviewed by a popular podcast host.\n",
    "    Here is the analyst's focus area: {topic}.\n",
    "    Your goal is to answer a question posed by the interviewer.\n",
    "    To answer the question, use this context:\n",
    "    {context}\n",
    "    When answering questions, follow these steps\n",
    "    1. Use only the information provided in the context.\n",
    "    2. Do not introduce outside information or make assumptions beyond what is explicitly stated in the context.\n",
    "    3. The context includes sources on the topic of each document.\n",
    "    4. Make it interesting.\n",
    "\"\"\""
   ]
  },
  {
   "cell_type": "code",
   "execution_count": 42,
   "id": "14af9a40",
   "metadata": {},
   "outputs": [],
   "source": [
    "async def generate_answer(state: InterviewState):\n",
    "    \"\"\"Generates answers for interview questions\"\"\"\n",
    "    topic = state[\"topic\"]\n",
    "    messages = state[\"messages\"]\n",
    "    context = state[\"content\"]\n",
    "\n",
    "    system_message = answer_instructions.format(topic, context)\n",
    "    answer = await podcast_groq.ainvoke([SystemMessage(content=system_message)] + messages)\n",
    "\n",
    "    answer.name = \"expert\"\n",
    "    return {\"messages\": [answer]}"
   ]
  },
  {
   "cell_type": "code",
   "execution_count": null,
   "id": "f8c2f935",
   "metadata": {},
   "outputs": [],
   "source": [
    "from langchain_core.messages import get_buffer_string\n",
    "\n",
    "async def save_podcast(state: InterviewState):\n",
    "    \"\"\"Saves the generated podcast\"\"\"\n",
    "    messages = state[\"messages\"]\n",
    "    interview = await get_buffer_string(messages)\n",
    "    return {\"section\": interview}"
   ]
  },
  {
   "cell_type": "code",
   "execution_count": 44,
   "id": "83a571ac",
   "metadata": {},
   "outputs": [],
   "source": [
    "from langchain_core.messages import AIMessage\n",
    "\n",
    "async def route_messages(state: InterviewState, name: str=\"expert\"):\n",
    "    \"\"\"Route between question and answer\"\"\"\n",
    "    messages = state[\"messages\"]\n",
    "    max_num_turns = state.get(\"max_num_turns\", 2)\n",
    "\n",
    "    num_responses = len(\n",
    "        [m for m in messages if isinstance(m, AIMessage) and m.name == name]\n",
    "    )\n",
    "\n",
    "    if num_responses >= max_num_turns:\n",
    "        return \"Save Podcast\"\n",
    "    \n",
    "    last_question = messages[-2]\n",
    "\n",
    "    if \"Thank you so much for your help\" in last_question.content:\n",
    "        return 'Save podcast'\n",
    "    return \"Host question\""
   ]
  },
  {
   "cell_type": "code",
   "execution_count": 45,
   "id": "809b24bb",
   "metadata": {},
   "outputs": [],
   "source": [
    "section_writer_instructions = \"\"\"You are an expert technical writer.\n",
    "\n",
    "Your task is to create an interesting, easily digestible section of a podcast based on an interview.\n",
    "\n",
    "1. Analyze the content of the interview\n",
    "\n",
    "2. Create a script structure using markdown formatting\n",
    "\n",
    "3. Make your title engaging based upon the focus area of the analyst:\n",
    "{focus}\n",
    "\n",
    "4. For the conversation:\n",
    "- Emphasize what is novel, interesting, or surprising about insights gathered from the interview\n",
    "- Mention turns of \"Interviewer\" and \"Expert\"\n",
    "- Aim for approximately 1000 words maximum\n",
    "\n",
    "5. Final review:\n",
    "- Ensure the report follows the required structure\n",
    "- Include no preamble before the title of the report\n",
    "- Check that all guidelines have been followed\"\"\""
   ]
  },
  {
   "cell_type": "code",
   "execution_count": 46,
   "id": "23dd22df",
   "metadata": {},
   "outputs": [],
   "source": [
    "async def write_section(state: InterviewState):\n",
    "\n",
    "    \"\"\" Node to answer a question \"\"\"\n",
    "\n",
    "    # Get state\n",
    "    section = state[\"section\"]\n",
    "    topic = state[\"topic\"]\n",
    "\n",
    "    system_message = section_writer_instructions.format(focus=topic)\n",
    "    section_res = await  podcast_model.asend_message(system_message + f\"Use this source to write your section: {section}\")\n",
    "\n",
    "    # Append it to state\n",
    "    return {\"sections\": [section_res.text]}"
   ]
  },
  {
   "cell_type": "code",
   "execution_count": null,
   "id": "3716cd36",
   "metadata": {},
   "outputs": [],
   "source": [
    "from langgraph.checkpoint.memory import MemorySaver\n",
    "\n",
    "interview_builder = StateGraph(InterviewState)\n",
    "\n",
    "#Nodes\n",
    "interview_builder.add_node(\"Host question\", generate_question)\n",
    "interview_builder.add_node(\"Web research\", search_web)\n",
    "interview_builder.add_node(\"Wiki research\", search_wikipedia)\n",
    "interview_builder.add_node(\"Expert answer\", generate_answer)\n",
    "interview_builder.add_node(\"Save podcast\", save_podcast)\n",
    "interview_builder.add_node(\"Write script\", write_section)\n",
    "\n",
    "#add edges\n",
    "interview_builder.add_edge(START, \"Host question\")\n",
    "interview_builder.add_edge(\"Host question\", \"Web research\")\n",
    "interview_builder.add_edge(\"Host question\", \"Wiki research\")\n",
    "interview_builder.add_edge(\"Web research\", \"Expert answer\")\n",
    "interview_builder.add_edge(\"Wiki research\", \"Expert answer\")\n",
    "interview_builder.add_conditional_edges(\"Expert answer\", route_messages,['Host question','Save podcast'])\n",
    "interview_builder.add_edge(\"Save podcast\", \"Write script\")\n",
    "interview_builder.add_edge(\"Write script\", END)\n",
    "\n",
    "memory = MemorySaver()\n",
    "podcast_graph = interview_builder.compile(checkpointer=memory).with_config(run_name=\"Create podcast\")"
   ]
  },
  {
   "cell_type": "code",
   "execution_count": 48,
   "id": "60f4ca13",
   "metadata": {},
   "outputs": [
    {
     "data": {
      "image/png": "[encoded data removed]",
      "text/plain": [
       "<IPython.core.display.Image object>"
      ]
     },
     "metadata": {},
     "output_type": "display_data"
    }
   ],
   "source": [
    "display(Image(podcast_graph.get_graph().draw_mermaid_png()))"
   ]
  },
  {
   "cell_type": "code",
   "execution_count": null,
   "id": "a185d7a8",
   "metadata": {},
   "outputs": [],
   "source": [
    "from langchain_core.messages import HumanMessage\n",
    "\n",
    "messages = [HumanMessage(f\"So you said you were writing an article about Attention in human cognition?\")]\n",
    "thread = {\"configurable\": {\"thread_id\": \"1\"}}\n",
    "interview = await podcast_graph.ainvoke({\"topic\": \"The Role of Focus in Perception\", \"messages\": messages, \"max_num_turns\": 2}, thread)\n",
    "Markdown(interview['sections'][0])"
   ]
  },
  {
   "cell_type": "markdown",
   "id": "8efeb29a",
   "metadata": {},
   "source": [
    "#Main Graph"
   ]
  },
  {
   "cell_type": "code",
   "execution_count": 49,
   "id": "ab83b241",
   "metadata": {},
   "outputs": [],
   "source": [
    "from typing_extensions import List\n",
    "\n",
    "class ResearchGraphState(TypedDict):\n",
    "    topic: Annotated[str, operator.add] \n",
    "    keywords: List \n",
    "    max_analysts: int\n",
    "    subtopics: List \n",
    "    sections: Annotated[list, operator.add]\n",
    "    introduction: str \n",
    "    content: str \n",
    "    conclusion: str\n",
    "    final_report: str"
   ]
  },
  {
   "cell_type": "code",
   "execution_count": 50,
   "id": "3a6c7c78",
   "metadata": {},
   "outputs": [],
   "source": [
    "report_writer_instructions = \"\"\"You are a podcast script writer preparing a script for an episode on this overall topic:\n",
    "\n",
    "{topic}\n",
    "\n",
    "You have a dedicated researcher who has delved deep into various subtopics related to the main theme.\n",
    "Your task:\n",
    "\n",
    "1. You will be given a collection of part of script podcast from the researcher, each covering a different subtopic.\n",
    "2. Carefully analyze the insights from each script.\n",
    "3. Consolidate these into a crisp and engaging narrative that ties together the central ideas from all of the script, suitable for a podcast audience.\n",
    "4. Weave the central points of each script into a cohesive and compelling story, ensuring a natural flow and smooth transitions between segments, creating a unified and insightful exploration of the overall topic.\n",
    "\n",
    "To format your script:\n",
    "\n",
    "1. Use markdown formatting.\n",
    "2. Write in a conversational and engaging tone suitable for a podcast.\n",
    "3. Seamlessly integrate the insights from each script into the narrative, using clear and concise language.\n",
    "4. Use transitional phrases and signposting to guide the listener through the different subtopics.\n",
    "\n",
    "Here are the scripts from the researcher to build your podcast script from:\n",
    "\n",
    "{context}\"\"\""
   ]
  },
  {
   "cell_type": "code",
   "execution_count": 51,
   "id": "549c9a93",
   "metadata": {},
   "outputs": [],
   "source": [
    "intro_instructions = \"\"\"You are a podcast producer crafting a captivating introduction for an upcoming episode on {topic}.\n",
    "You will be given an outline of the episode's main segments.\n",
    "Your job is to write a compelling and engaging introduction that hooks the listener and sets the stage for the discussion.\n",
    "Include no unnecessary preamble or fluff.\n",
    "Target around 300 words, using vivid language and intriguing questions to pique the listener's curiosity and preview the key themes and topics covered in the episode.\n",
    "Use markdown formatting.\n",
    "Create a catchy and relevant title for the episode and use the # header for the title.\n",
    "Use ## Introduction as the section header for your introduction.\n",
    "Here are the segments to draw upon for crafting your introduction: {formatted_str_sections}\"\"\""
   ]
  },
  {
   "cell_type": "code",
   "execution_count": 52,
   "id": "246d1536",
   "metadata": {},
   "outputs": [],
   "source": [
    "conclusion_instructions = \"\"\"You are a podcast producer crafting a memorable conclusion for an episode on {topic}.\n",
    "You will be given an outline of the episode's main segments.\n",
    "Your job is to write a concise and impactful conclusion that summarizes the key takeaways and leaves a lasting impression on the listener.\n",
    "Include no unnecessary preamble or fluff.\n",
    "Target around 200 words, highlighting the most important insights and offering a thought-provoking closing statement that encourages further reflection or action.\n",
    "Use markdown formatting.\n",
    "Use ## Conclusion as the section header for your conclusion.\n",
    "Here are the segments to draw upon for crafting your conclusion: {formatted_str_sections}\"\"\""
   ]
  },
  {
   "cell_type": "code",
   "execution_count": 53,
   "id": "33001a49",
   "metadata": {},
   "outputs": [],
   "source": [
    "from langgraph.constants import Send\n",
    "\n",
    "async def initiate_all_interviews(state: ResearchGraphState):\n",
    "    \"\"\" This is the \"map\" step where we run each interview sub-graph using Send API \"\"\"\n",
    "\n",
    "    topic = state[\"topic\"]\n",
    "    return await [Send(\"Create podcast\", {\"topic\": topic,\n",
    "                                        \"messages\": [HumanMessage(\n",
    "                                            content=f\"So you said you were researching about {subtopic}?\"\n",
    "                                        )\n",
    "                                                    ]}) for subtopic in state[\"subtopics\"]]"
   ]
  },
  {
   "cell_type": "code",
   "execution_count": 54,
   "id": "8c558d83",
   "metadata": {},
   "outputs": [],
   "source": [
    "async def write_report(state: ResearchGraphState):\n",
    "    # Full set of sections\n",
    "    sections = state[\"sections\"]\n",
    "    topic = state[\"topic\"]\n",
    "\n",
    "    # Concat all sections together\n",
    "    formatted_str_sections = \"\\n\\n\".join([f\"{section}\" for section in sections])\n",
    "\n",
    "    # Summarize the sections into a final report\n",
    "    system_message = report_writer_instructions.format(topic=topic, context=formatted_str_sections)\n",
    "    report = await podcast_model.asend_message(system_message)\n",
    "    return {\"content\": report.text}"
   ]
  },
  {
   "cell_type": "code",
   "execution_count": 55,
   "id": "975dc5fd",
   "metadata": {},
   "outputs": [],
   "source": [
    "async def write_introduction(state: ResearchGraphState):\n",
    "    # Full set of sections\n",
    "    sections = state[\"sections\"]\n",
    "    topic = state[\"topic\"]\n",
    "\n",
    "    # Concat all sections together\n",
    "    formatted_str_sections = \"\\n\\n\".join([f\"{section}\" for section in sections])\n",
    "\n",
    "    # Summarize the sections into a final report\n",
    "\n",
    "    instructions = intro_instructions.format(topic=topic, formatted_str_sections=formatted_str_sections)\n",
    "    intro = await podcast_model.asend_message(instructions)\n",
    "    return {\"introduction\": intro.text}"
   ]
  },
  {
   "cell_type": "code",
   "execution_count": 56,
   "id": "be5108d5",
   "metadata": {},
   "outputs": [],
   "source": [
    "async def write_conclusion(state: ResearchGraphState):\n",
    "    # Full set of sections\n",
    "    sections = state[\"sections\"]\n",
    "    topic = state[\"topic\"]\n",
    "\n",
    "    # Concat all sections together\n",
    "    formatted_str_sections = \"\\n\\n\".join([f\"{section}\" for section in sections])\n",
    "\n",
    "    # Summarize the sections into a final report\n",
    "\n",
    "    instructions = conclusion_instructions.format(topic=topic, formatted_str_sections=formatted_str_sections)\n",
    "    conclusion = await podcast_model.asend_message(instructions)\n",
    "    return {\"conclusion\": conclusion.text}"
   ]
  },
  {
   "cell_type": "code",
   "execution_count": 57,
   "id": "1fc094a2",
   "metadata": {},
   "outputs": [],
   "source": [
    "async def finalize_report(state: ResearchGraphState):\n",
    "    \"\"\" The is the \"reduce\" step where we gather all the sections, combine them, and reflect on them to write the intro/conclusion \"\"\"\n",
    "    # Save full final report\n",
    "    content = state[\"content\"]\n",
    "    final_report = state[\"introduction\"] + \"\\n\\n---\\n\\n\" + content + \"\\n\\n---\\n\\n\" + state[\"conclusion\"]\n",
    "\n",
    "    return {\"final_report\": final_report}"
   ]
  },
  {
   "cell_type": "code",
   "execution_count": 58,
   "id": "e314427c",
   "metadata": {},
   "outputs": [],
   "source": [
    "async def Start_parallel(state: ResearchGraphState):\n",
    "    \"\"\" No-op node that should be interrupted on \"\"\"\n",
    "    pass"
   ]
  },
  {
   "cell_type": "code",
   "execution_count": 59,
   "id": "7de25a98",
   "metadata": {},
   "outputs": [],
   "source": [
    "builder = StateGraph(ResearchGraphState)\n",
    "\n",
    "builder.add_node(\"Planing\", planner_build.compile())\n",
    "builder.add_node(\"Start research\", Start_parallel)\n",
    "builder.add_node(\"Create podcast\", interview_builder.compile())\n",
    "builder.add_node(\"Write report\",write_report)\n",
    "builder.add_node(\"Write introduction\",write_introduction)\n",
    "builder.add_node(\"Write conclusion\",write_conclusion)\n",
    "builder.add_node(\"Finalize podcast\",finalize_report)\n",
    "\n",
    "builder.add_edge(START, \"Planing\")\n",
    "builder.add_edge(\"Planing\", \"Start research\")\n",
    "builder.add_conditional_edges(\"Start research\", initiate_all_interviews, [\"Planing\", \"Create podcast\"])\n",
    "builder.add_edge(\"Create podcast\", \"Write report\")\n",
    "builder.add_edge(\"Create podcast\", \"Write introduction\")\n",
    "builder.add_edge(\"Create podcast\", \"Write conclusion\")\n",
    "builder.add_edge([\"Write introduction\", \"Write report\", \"Write conclusion\"], \"Finalize podcast\")\n",
    "builder.add_edge(\"Finalize podcast\", END)\n",
    "\n",
    "memory = MemorySaver()\n",
    "main_graph = builder.compile(checkpointer=memory)"
   ]
  },
  {
   "cell_type": "code",
   "execution_count": 60,
   "id": "b6cd06bf",
   "metadata": {},
   "outputs": [
    {
     "data": {
      "image/png": "[encoded data removed]",
      "text/plain": [
       "<IPython.core.display.Image object>"
      ]
     },
     "metadata": {},
     "output_type": "display_data"
    }
   ],
   "source": [
    "display(Image(main_graph.get_graph(xray=1).draw_mermaid_png()))"
   ]
  },
  {
   "cell_type": "markdown",
   "id": "4f4d03cd",
   "metadata": {},
   "source": [
    "#TestCase"
   ]
  },
  {
   "cell_type": "code",
   "execution_count": 61,
   "id": "738412df",
   "metadata": {},
   "outputs": [],
   "source": [
    "# Inputs\n",
    "topic = \"What is Attention in human cognition\"\n",
    "\n",
    "input_g = {\"topic\":topic}\n",
    "thread = {\"configurable\": {\"thread_id\": \"1\"}}"
   ]
  },
  {
   "cell_type": "code",
   "execution_count": null,
   "id": "83a21ab0",
   "metadata": {},
   "outputs": [],
   "source": [
    "for event in await main_graph.astream(input_g, thread, stream_mode=\"updates\"):\n",
    "    print(\"--Node--\")\n",
    "    node_name = next(iter(event.keys()))\n",
    "    print(node_name)"
   ]
  },
  {
   "cell_type": "code",
   "execution_count": null,
   "id": "ff40fe31",
   "metadata": {},
   "outputs": [],
   "source": [
    "final_state = await main_graph.aget_state(thread)\n",
    "report = final_state.values.get('final_report')\n",
    "display(Markdown(report))"
   ]
  },
  {
   "cell_type": "code",
   "execution_count": null,
   "id": "d590ef22",
   "metadata": {},
   "outputs": [],
   "source": [
    "final_state.values.get('subtopics')"
   ]
  }
 ],
 "metadata": {
  "kernelspec": {
   "display_name": ".venv",
   "language": "python",
   "name": "python3"
  },
  "language_info": {
   "codemirror_mode": {
    "name": "ipython",
    "version": 3
   },
   "file_extension": ".py",
   "mimetype": "text/x-python",
   "name": "python",
   "nbconvert_exporter": "python",
   "pygments_lexer": "ipython3",
   "version": "3.13.3"
  }
 },
 "nbformat": 4,
 "nbformat_minor": 5
}
